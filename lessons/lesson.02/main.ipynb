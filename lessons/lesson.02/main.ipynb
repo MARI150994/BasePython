{
 "cells": [
  {
   "cell_type": "code",
   "execution_count": 1,
   "id": "1a824600",
   "metadata": {},
   "outputs": [
    {
     "name": "stdout",
     "output_type": "stream",
     "text": [
      "Hello world (again)\n"
     ]
    }
   ],
   "source": [
    "print(\"Hello world (again)\")"
   ]
  },
  {
   "cell_type": "code",
   "execution_count": 2,
   "id": "7cc901f6",
   "metadata": {},
   "outputs": [
    {
     "name": "stdout",
     "output_type": "stream",
     "text": [
      "['a', 'bc', 'def']\n"
     ]
    }
   ],
   "source": [
    "list_of_strings = [\"a\", \"bc\", \"def\"]\n",
    "print(list_of_strings)"
   ]
  },
  {
   "cell_type": "code",
   "execution_count": 3,
   "id": "b5bbd6e8",
   "metadata": {},
   "outputs": [
    {
     "name": "stdout",
     "output_type": "stream",
     "text": [
      "a\n",
      "bc\n",
      "def\n"
     ]
    }
   ],
   "source": [
    "print(list_of_strings[0])\n",
    "print(list_of_strings[1])\n",
    "print(list_of_strings[2])"
   ]
  },
  {
   "cell_type": "code",
   "execution_count": 4,
   "id": "d5e1084d",
   "metadata": {},
   "outputs": [
    {
     "name": "stdout",
     "output_type": "stream",
     "text": [
      "<built-in function print>\n"
     ]
    }
   ],
   "source": [
    "print(print)"
   ]
  },
  {
   "cell_type": "code",
   "execution_count": 5,
   "id": "2827ecd0",
   "metadata": {},
   "outputs": [
    {
     "data": {
      "text/plain": [
       "<function print>"
      ]
     },
     "execution_count": 5,
     "metadata": {},
     "output_type": "execute_result"
    }
   ],
   "source": [
    "print"
   ]
  },
  {
   "cell_type": "code",
   "execution_count": 6,
   "id": "dd60f6f9",
   "metadata": {},
   "outputs": [
    {
     "name": "stdout",
     "output_type": "stream",
     "text": [
      "Help on built-in function print in module builtins:\n",
      "\n",
      "print(...)\n",
      "    print(value, ..., sep=' ', end='\\n', file=sys.stdout, flush=False)\n",
      "    \n",
      "    Prints the values to a stream, or to sys.stdout by default.\n",
      "    Optional keyword arguments:\n",
      "    file:  a file-like object (stream); defaults to the current sys.stdout.\n",
      "    sep:   string inserted between values, default a space.\n",
      "    end:   string appended after the last value, default a newline.\n",
      "    flush: whether to forcibly flush the stream.\n",
      "\n"
     ]
    }
   ],
   "source": [
    "help(print)"
   ]
  },
  {
   "cell_type": "code",
   "execution_count": 7,
   "id": "fa914427",
   "metadata": {},
   "outputs": [
    {
     "name": "stdout",
     "output_type": "stream",
     "text": [
      "['a', 1, '23', True, None, ['bc', 'de'], (1, 2, 3)]\n"
     ]
    }
   ],
   "source": [
    "list_of_any = [\"a\", 1, \"23\", True, None, [\"bc\", \"de\"], (1, 2, 3)]\n",
    "print(list_of_any)"
   ]
  },
  {
   "cell_type": "code",
   "execution_count": 8,
   "id": "2815c786",
   "metadata": {},
   "outputs": [
    {
     "name": "stdout",
     "output_type": "stream",
     "text": [
      "elem: a\n",
      "elem: 1\n",
      "elem: 23\n",
      "elem: True\n",
      "elem: None\n",
      "elem: ['bc', 'de']\n",
      "elem: (1, 2, 3)\n"
     ]
    }
   ],
   "source": [
    "for elem in list_of_any:\n",
    "    print(\"elem:\", elem)"
   ]
  },
  {
   "cell_type": "code",
   "execution_count": 9,
   "id": "c2c9a5d2",
   "metadata": {},
   "outputs": [
    {
     "name": "stdout",
     "output_type": "stream",
     "text": [
      "(0, 1, 1, 2, 3, 5, 8, 13)\n"
     ]
    }
   ],
   "source": [
    "tuple_of_fib = (0, 1, 1, 2, 3, 5, 8, 13)\n",
    "print(tuple_of_fib)"
   ]
  },
  {
   "cell_type": "code",
   "execution_count": 10,
   "id": "d7bcfe4a",
   "metadata": {},
   "outputs": [
    {
     "name": "stdout",
     "output_type": "stream",
     "text": [
      "fib value: 0\n",
      "fib value: 1\n",
      "fib value: 1\n",
      "fib value: 2\n",
      "fib value: 3\n",
      "fib value: 5\n",
      "fib value: 8\n",
      "fib value: 13\n"
     ]
    }
   ],
   "source": [
    "for fib_value in tuple_of_fib:\n",
    "    print(\"fib value:\", fib_value)"
   ]
  },
  {
   "cell_type": "code",
   "execution_count": 11,
   "id": "ff8a81f1",
   "metadata": {},
   "outputs": [
    {
     "data": {
      "text/plain": [
       "<enumerate at 0x1050a7e00>"
      ]
     },
     "execution_count": 11,
     "metadata": {},
     "output_type": "execute_result"
    }
   ],
   "source": [
    "enumerate(tuple_of_fib)"
   ]
  },
  {
   "cell_type": "code",
   "execution_count": 12,
   "id": "ce86d18d",
   "metadata": {},
   "outputs": [
    {
     "name": "stdout",
     "output_type": "stream",
     "text": [
      "(0, 0)\n",
      "(1, 1)\n",
      "(2, 1)\n",
      "(3, 2)\n",
      "(4, 3)\n",
      "(5, 5)\n",
      "(6, 8)\n",
      "(7, 13)\n"
     ]
    }
   ],
   "source": [
    "for value in enumerate(tuple_of_fib):\n",
    "    print(value)"
   ]
  },
  {
   "cell_type": "code",
   "execution_count": 13,
   "id": "ed88d545",
   "metadata": {},
   "outputs": [
    {
     "name": "stdout",
     "output_type": "stream",
     "text": [
      "fib value for index 0 is 0\n",
      "fib value for index 1 is 1\n",
      "fib value for index 2 is 1\n",
      "fib value for index 3 is 2\n",
      "fib value for index 4 is 3\n",
      "fib value for index 5 is 5\n",
      "fib value for index 6 is 8\n",
      "fib value for index 7 is 13\n"
     ]
    }
   ],
   "source": [
    "for index, fib_value in enumerate(tuple_of_fib):\n",
    "    print(\"fib value for index\", index, \"is\", fib_value)"
   ]
  },
  {
   "cell_type": "code",
   "execution_count": 14,
   "id": "77aeb729",
   "metadata": {},
   "outputs": [
    {
     "data": {
      "text/plain": [
       "range(0, 10)"
      ]
     },
     "execution_count": 14,
     "metadata": {},
     "output_type": "execute_result"
    }
   ],
   "source": [
    "range(10)"
   ]
  },
  {
   "cell_type": "code",
   "execution_count": 15,
   "id": "d3c6c3bf",
   "metadata": {},
   "outputs": [
    {
     "data": {
      "text/plain": [
       "[0, 1, 2, 3, 4, 5, 6, 7, 8, 9]"
      ]
     },
     "execution_count": 15,
     "metadata": {},
     "output_type": "execute_result"
    }
   ],
   "source": [
    "list(range(10))"
   ]
  },
  {
   "cell_type": "code",
   "execution_count": 16,
   "id": "19356d19",
   "metadata": {},
   "outputs": [
    {
     "data": {
      "text/plain": [
       "[0, 1, 2, 3, 4, 5, 6, 7, 8, 9, 10, 11, 12, 13, 14, 15, 16, 17, 18, 19]"
      ]
     },
     "execution_count": 16,
     "metadata": {},
     "output_type": "execute_result"
    }
   ],
   "source": [
    "list(range(20))"
   ]
  },
  {
   "cell_type": "code",
   "execution_count": 17,
   "id": "1b494561",
   "metadata": {},
   "outputs": [
    {
     "data": {
      "text/plain": [
       "[5, 6, 7, 8, 9, 10, 11, 12, 13, 14]"
      ]
     },
     "execution_count": 17,
     "metadata": {},
     "output_type": "execute_result"
    }
   ],
   "source": [
    "list(range(5, 15))"
   ]
  },
  {
   "cell_type": "code",
   "execution_count": 18,
   "id": "4e4f383b",
   "metadata": {},
   "outputs": [
    {
     "data": {
      "text/plain": [
       "[5, 8, 11, 14]"
      ]
     },
     "execution_count": 18,
     "metadata": {},
     "output_type": "execute_result"
    }
   ],
   "source": [
    "list(range(5, 15, 3))"
   ]
  },
  {
   "cell_type": "code",
   "execution_count": 19,
   "id": "32f7af1a",
   "metadata": {},
   "outputs": [
    {
     "name": "stdout",
     "output_type": "stream",
     "text": [
      "fib value for index 0 is 0\n",
      "fib value for index 1 is 1\n",
      "fib value for index 2 is 1\n",
      "fib value for index 3 is 2\n",
      "fib value for index 4 is 3\n",
      "fib value for index 5 is 5\n",
      "fib value for index 6 is 8\n",
      "fib value for index 7 is 13\n"
     ]
    }
   ],
   "source": [
    "for index, fib_value in enumerate(tuple_of_fib):\n",
    "    print(\"fib value for index\", index, \"is\", fib_value)"
   ]
  },
  {
   "cell_type": "code",
   "execution_count": 20,
   "id": "41cd950e",
   "metadata": {},
   "outputs": [
    {
     "data": {
      "text/plain": [
       "8"
      ]
     },
     "execution_count": 20,
     "metadata": {},
     "output_type": "execute_result"
    }
   ],
   "source": [
    "len(tuple_of_fib)"
   ]
  },
  {
   "cell_type": "code",
   "execution_count": 21,
   "id": "086784ec",
   "metadata": {},
   "outputs": [
    {
     "data": {
      "text/plain": [
       "[0, 1, 2, 3, 4, 5, 6, 7]"
      ]
     },
     "execution_count": 21,
     "metadata": {},
     "output_type": "execute_result"
    }
   ],
   "source": [
    "list(range(len(tuple_of_fib)))"
   ]
  },
  {
   "cell_type": "code",
   "execution_count": 22,
   "id": "adbedc55",
   "metadata": {},
   "outputs": [
    {
     "name": "stdout",
     "output_type": "stream",
     "text": [
      "fib value for index 0 is 0\n",
      "fib value for index 1 is 1\n",
      "fib value for index 2 is 1\n",
      "fib value for index 3 is 2\n",
      "fib value for index 4 is 3\n",
      "fib value for index 5 is 5\n",
      "fib value for index 6 is 8\n",
      "fib value for index 7 is 13\n"
     ]
    }
   ],
   "source": [
    "for i in range(len(tuple_of_fib)):\n",
    "    fib_value = tuple_of_fib[i]\n",
    "    print(\"fib value for index\", i, \"is\", fib_value)"
   ]
  },
  {
   "cell_type": "code",
   "execution_count": 23,
   "id": "ea92de0a",
   "metadata": {},
   "outputs": [
    {
     "name": "stdout",
     "output_type": "stream",
     "text": [
      "fib value for index 0 is 0\n",
      "fib value for index 1 is 1\n",
      "fib value for index 2 is 1\n",
      "fib value for index 3 is 2\n",
      "fib value for index 4 is 3\n",
      "fib value for index 5 is 5\n",
      "fib value for index 6 is 8\n",
      "fib value for index 7 is 13\n"
     ]
    }
   ],
   "source": [
    "for index, fib_value in enumerate(tuple_of_fib):\n",
    "    print(\"fib value for index\", index, \"is\", fib_value)"
   ]
  },
  {
   "cell_type": "code",
   "execution_count": 24,
   "id": "050d4020",
   "metadata": {},
   "outputs": [
    {
     "data": {
      "text/plain": [
       "13"
      ]
     },
     "execution_count": 24,
     "metadata": {},
     "output_type": "execute_result"
    }
   ],
   "source": [
    "tuple_of_fib[7]"
   ]
  },
  {
   "cell_type": "code",
   "execution_count": 25,
   "id": "655649cd",
   "metadata": {},
   "outputs": [
    {
     "data": {
      "text/plain": [
       "(2, 3, 5, 8)"
      ]
     },
     "execution_count": 25,
     "metadata": {},
     "output_type": "execute_result"
    }
   ],
   "source": [
    "tuple_of_fib[3:7]"
   ]
  },
  {
   "cell_type": "code",
   "execution_count": 26,
   "id": "45a20746",
   "metadata": {},
   "outputs": [
    {
     "data": {
      "text/plain": [
       "(2, 5)"
      ]
     },
     "execution_count": 26,
     "metadata": {},
     "output_type": "execute_result"
    }
   ],
   "source": [
    "tuple_of_fib[3:7:2]"
   ]
  },
  {
   "cell_type": "code",
   "execution_count": 27,
   "id": "b6a47703",
   "metadata": {},
   "outputs": [
    {
     "data": {
      "text/plain": [
       "(1, 3, 8)"
      ]
     },
     "execution_count": 27,
     "metadata": {},
     "output_type": "execute_result"
    }
   ],
   "source": [
    "tuple_of_fib[2:7:2]"
   ]
  },
  {
   "cell_type": "code",
   "execution_count": 28,
   "id": "0036476c",
   "metadata": {},
   "outputs": [
    {
     "data": {
      "text/plain": [
       "(1, 2, 3, 5, 8)"
      ]
     },
     "execution_count": 28,
     "metadata": {},
     "output_type": "execute_result"
    }
   ],
   "source": [
    "tuple_of_fib[2:7:1]"
   ]
  },
  {
   "cell_type": "code",
   "execution_count": 29,
   "id": "7d54e29b",
   "metadata": {},
   "outputs": [
    {
     "name": "stdout",
     "output_type": "stream",
     "text": [
      "Hello world!\n"
     ]
    }
   ],
   "source": [
    "text = \"Hello world!\"\n",
    "print(text)"
   ]
  },
  {
   "cell_type": "code",
   "execution_count": 30,
   "id": "5244022b",
   "metadata": {},
   "outputs": [
    {
     "name": "stdout",
     "output_type": "stream",
     "text": [
      "H\n",
      "e\n",
      "l\n",
      "l\n",
      "o\n",
      " \n",
      "w\n",
      "o\n",
      "r\n",
      "l\n",
      "d\n",
      "!\n"
     ]
    }
   ],
   "source": [
    "for s in text:\n",
    "    print(s)"
   ]
  },
  {
   "cell_type": "code",
   "execution_count": 31,
   "id": "17af8a96",
   "metadata": {},
   "outputs": [
    {
     "data": {
      "text/plain": [
       "'lo wor'"
      ]
     },
     "execution_count": 31,
     "metadata": {},
     "output_type": "execute_result"
    }
   ],
   "source": [
    "text[3:9]"
   ]
  },
  {
   "cell_type": "code",
   "execution_count": 32,
   "id": "aaf84f40",
   "metadata": {},
   "outputs": [
    {
     "name": "stdout",
     "output_type": "stream",
     "text": [
      "{10, 20, 6, 14}\n"
     ]
    }
   ],
   "source": [
    "set_of_evens = {6, 10, 14, 20}\n",
    "print(set_of_evens)"
   ]
  },
  {
   "cell_type": "code",
   "execution_count": 33,
   "id": "276cd635",
   "metadata": {},
   "outputs": [
    {
     "name": "stdout",
     "output_type": "stream",
     "text": [
      "10\n",
      "20\n",
      "6\n",
      "14\n"
     ]
    }
   ],
   "source": [
    "for even_value in set_of_evens:\n",
    "    print(even_value)"
   ]
  },
  {
   "cell_type": "code",
   "execution_count": 34,
   "id": "60b9f58b",
   "metadata": {},
   "outputs": [
    {
     "name": "stdout",
     "output_type": "stream",
     "text": [
      "{2, 6, 40, 10, 14, 20}\n"
     ]
    }
   ],
   "source": [
    "set_of_evens.add(2)\n",
    "set_of_evens.add(40)\n",
    "\n",
    "print(set_of_evens)"
   ]
  },
  {
   "cell_type": "code",
   "execution_count": 35,
   "id": "5f293768",
   "metadata": {},
   "outputs": [
    {
     "name": "stdout",
     "output_type": "stream",
     "text": [
      "2\n",
      "6\n",
      "40\n",
      "10\n",
      "14\n",
      "20\n"
     ]
    }
   ],
   "source": [
    "for even_value in set_of_evens:\n",
    "    print(even_value)"
   ]
  },
  {
   "cell_type": "code",
   "execution_count": 36,
   "id": "6cb497db",
   "metadata": {},
   "outputs": [
    {
     "data": {
      "text/plain": [
       "True"
      ]
     },
     "execution_count": 36,
     "metadata": {},
     "output_type": "execute_result"
    }
   ],
   "source": [
    "6 in set_of_evens"
   ]
  },
  {
   "cell_type": "code",
   "execution_count": 37,
   "id": "1255f045",
   "metadata": {},
   "outputs": [
    {
     "data": {
      "text/plain": [
       "False"
      ]
     },
     "execution_count": 37,
     "metadata": {},
     "output_type": "execute_result"
    }
   ],
   "source": [
    "7 in set_of_evens"
   ]
  },
  {
   "cell_type": "code",
   "execution_count": 38,
   "id": "9d8cdb4b",
   "metadata": {},
   "outputs": [
    {
     "data": {
      "text/plain": [
       "(0, 1, 1, 2, 3, 5, 8, 13)"
      ]
     },
     "execution_count": 38,
     "metadata": {},
     "output_type": "execute_result"
    }
   ],
   "source": [
    "tuple_of_fib"
   ]
  },
  {
   "cell_type": "code",
   "execution_count": 39,
   "id": "4dc2a78e",
   "metadata": {},
   "outputs": [
    {
     "data": {
      "text/plain": [
       "False"
      ]
     },
     "execution_count": 39,
     "metadata": {},
     "output_type": "execute_result"
    }
   ],
   "source": [
    "7 in tuple_of_fib"
   ]
  },
  {
   "cell_type": "code",
   "execution_count": 40,
   "id": "fabe9b9c",
   "metadata": {},
   "outputs": [
    {
     "data": {
      "text/plain": [
       "True"
      ]
     },
     "execution_count": 40,
     "metadata": {},
     "output_type": "execute_result"
    }
   ],
   "source": [
    "5 in tuple_of_fib"
   ]
  },
  {
   "cell_type": "code",
   "execution_count": 41,
   "id": "c2308b2d",
   "metadata": {},
   "outputs": [
    {
     "name": "stdout",
     "output_type": "stream",
     "text": [
      "The quick brown fox jumps over the lazy dog\n"
     ]
    }
   ],
   "source": [
    "fox_text = \"The quick brown fox jumps over the lazy dog\"\n",
    "print(fox_text)"
   ]
  },
  {
   "cell_type": "code",
   "execution_count": 42,
   "id": "4b8b9dcf",
   "metadata": {},
   "outputs": [
    {
     "data": {
      "text/plain": [
       "['The', 'quick', 'brown', 'fox', 'jumps', 'over', 'the', 'lazy', 'dog']"
      ]
     },
     "execution_count": 42,
     "metadata": {},
     "output_type": "execute_result"
    }
   ],
   "source": [
    "fox_text.split()"
   ]
  },
  {
   "cell_type": "code",
   "execution_count": 43,
   "id": "f551cb86",
   "metadata": {},
   "outputs": [
    {
     "data": {
      "text/plain": [
       "['The', 'quick', 'brown', 'fox', 'jumps', 'over', 'the', 'lazy', 'dog']"
      ]
     },
     "execution_count": 43,
     "metadata": {},
     "output_type": "execute_result"
    }
   ],
   "source": [
    "fox_text.split(\" \")"
   ]
  },
  {
   "cell_type": "code",
   "execution_count": 44,
   "id": "1c759b75",
   "metadata": {},
   "outputs": [
    {
     "name": "stdout",
     "output_type": "stream",
     "text": [
      "The\n",
      "quick\n",
      "brown\n",
      "fox\n",
      "jumps\n",
      "over\n",
      "the\n",
      "lazy\n",
      "dog\n"
     ]
    }
   ],
   "source": [
    "for word in fox_text.split():\n",
    "    print(word)"
   ]
  },
  {
   "cell_type": "code",
   "execution_count": 46,
   "id": "59d0e267",
   "metadata": {},
   "outputs": [
    {
     "name": "stdout",
     "output_type": "stream",
     "text": [
      "{'over', 'quick', 'dog', 'The', 'the', 'lazy', 'jumps', 'fox', 'brown'}\n"
     ]
    }
   ],
   "source": [
    "words = set(fox_text.split())\n",
    "print(words)"
   ]
  },
  {
   "cell_type": "code",
   "execution_count": 47,
   "id": "89cefda1",
   "metadata": {},
   "outputs": [
    {
     "data": {
      "text/plain": [
       "True"
      ]
     },
     "execution_count": 47,
     "metadata": {},
     "output_type": "execute_result"
    }
   ],
   "source": [
    "\"dog\" in words"
   ]
  },
  {
   "cell_type": "code",
   "execution_count": 48,
   "id": "bc43b672",
   "metadata": {},
   "outputs": [
    {
     "data": {
      "text/plain": [
       "False"
      ]
     },
     "execution_count": 48,
     "metadata": {},
     "output_type": "execute_result"
    }
   ],
   "source": [
    "\"cat\" in words"
   ]
  },
  {
   "cell_type": "code",
   "execution_count": 49,
   "id": "6752ff18",
   "metadata": {},
   "outputs": [
    {
     "data": {
      "text/plain": [
       "(0, 1, 1, 2, 3, 5, 8, 13)"
      ]
     },
     "execution_count": 49,
     "metadata": {},
     "output_type": "execute_result"
    }
   ],
   "source": [
    "tuple_of_fib"
   ]
  },
  {
   "cell_type": "code",
   "execution_count": 50,
   "id": "869ea74b",
   "metadata": {},
   "outputs": [
    {
     "data": {
      "text/plain": [
       "{0, 1, 2, 3, 5, 8, 13}"
      ]
     },
     "execution_count": 50,
     "metadata": {},
     "output_type": "execute_result"
    }
   ],
   "source": [
    "set(tuple_of_fib)"
   ]
  },
  {
   "cell_type": "code",
   "execution_count": 51,
   "id": "63c3c5a4",
   "metadata": {},
   "outputs": [
    {
     "data": {
      "text/plain": [
       "[1, 2, 4, 5]"
      ]
     },
     "execution_count": 51,
     "metadata": {},
     "output_type": "execute_result"
    }
   ],
   "source": [
    "list(set([1, 1, 2, 1, 4, 5, 2]))"
   ]
  },
  {
   "cell_type": "code",
   "execution_count": 52,
   "id": "6498cd77",
   "metadata": {},
   "outputs": [
    {
     "data": {
      "text/plain": [
       "{5, 6, 10, 14, 20}"
      ]
     },
     "execution_count": 52,
     "metadata": {},
     "output_type": "execute_result"
    }
   ],
   "source": [
    "set([6, 10, 14, 20, 10, 6, 5])"
   ]
  },
  {
   "cell_type": "code",
   "execution_count": 53,
   "id": "3658ab35",
   "metadata": {},
   "outputs": [
    {
     "data": {
      "text/plain": [
       "[5, 6, 10, 14, 20]"
      ]
     },
     "execution_count": 53,
     "metadata": {},
     "output_type": "execute_result"
    }
   ],
   "source": [
    "list(set([6, 10, 14, 20, 10, 6, 5]))"
   ]
  },
  {
   "cell_type": "code",
   "execution_count": 54,
   "id": "d04322fc",
   "metadata": {},
   "outputs": [
    {
     "name": "stdout",
     "output_type": "stream",
     "text": [
      "{0: 0, 1: 1, 2: 1, 3: 2, 4: 3, 5: 5, 6: 8, 7: 13}\n"
     ]
    }
   ],
   "source": [
    "dict_of_fib = {}\n",
    "for index, value in enumerate(tuple_of_fib):\n",
    "    dict_of_fib[index] = value\n",
    "    \n",
    "print(dict_of_fib)"
   ]
  },
  {
   "cell_type": "code",
   "execution_count": 55,
   "id": "ed125e83",
   "metadata": {},
   "outputs": [
    {
     "name": "stdout",
     "output_type": "stream",
     "text": [
      "{0: 0, 1: 1, 2: 1, 3: 2, 4: 3, 5: 5, 6: 8, 7: 13, 8: 21}\n"
     ]
    }
   ],
   "source": [
    "dict_of_fib[8] = 21\n",
    "print(dict_of_fib)"
   ]
  },
  {
   "cell_type": "code",
   "execution_count": 56,
   "id": "7303856c",
   "metadata": {},
   "outputs": [
    {
     "name": "stdout",
     "output_type": "stream",
     "text": [
      "{0: -1, 1: 1, 2: 1, 3: 2, 4: 3, 5: 5, 6: 8, 7: 13, 8: 21}\n"
     ]
    }
   ],
   "source": [
    "dict_of_fib[0] = -1\n",
    "print(dict_of_fib)"
   ]
  },
  {
   "cell_type": "code",
   "execution_count": 57,
   "id": "ee23e0ab",
   "metadata": {},
   "outputs": [
    {
     "data": {
      "text/plain": [
       "True"
      ]
     },
     "execution_count": 57,
     "metadata": {},
     "output_type": "execute_result"
    }
   ],
   "source": [
    "2 in dict_of_fib"
   ]
  },
  {
   "cell_type": "code",
   "execution_count": 58,
   "id": "5f6eb857",
   "metadata": {},
   "outputs": [
    {
     "data": {
      "text/plain": [
       "False"
      ]
     },
     "execution_count": 58,
     "metadata": {},
     "output_type": "execute_result"
    }
   ],
   "source": [
    "13 in dict_of_fib"
   ]
  },
  {
   "cell_type": "code",
   "execution_count": 59,
   "id": "8ff60968",
   "metadata": {},
   "outputs": [
    {
     "data": {
      "text/plain": [
       "True"
      ]
     },
     "execution_count": 59,
     "metadata": {},
     "output_type": "execute_result"
    }
   ],
   "source": [
    "7 in dict_of_fib"
   ]
  },
  {
   "cell_type": "code",
   "execution_count": 60,
   "id": "8d7ffe5f",
   "metadata": {},
   "outputs": [
    {
     "name": "stdout",
     "output_type": "stream",
     "text": [
      "0\n",
      "1\n",
      "2\n",
      "3\n",
      "4\n",
      "5\n",
      "6\n",
      "7\n",
      "8\n"
     ]
    }
   ],
   "source": [
    "for k in dict_of_fib:\n",
    "    print(k)"
   ]
  },
  {
   "cell_type": "code",
   "execution_count": 61,
   "id": "b4bcc416",
   "metadata": {},
   "outputs": [
    {
     "name": "stdout",
     "output_type": "stream",
     "text": [
      "{'foo': 'bar', 0: None, 1: '111', 'spam': 'eggs'}\n"
     ]
    }
   ],
   "source": [
    "data = {\n",
    "    \"foo\": \"bar\",\n",
    "    0: None,\n",
    "    1: \"111\",\n",
    "    \"spam\": \"eggs\",\n",
    "}\n",
    "print(data)"
   ]
  },
  {
   "cell_type": "code",
   "execution_count": 62,
   "id": "e891c810",
   "metadata": {},
   "outputs": [
    {
     "name": "stdout",
     "output_type": "stream",
     "text": [
      "foo\n",
      "0\n",
      "1\n",
      "spam\n"
     ]
    }
   ],
   "source": [
    "for k in data:\n",
    "    print(k)"
   ]
  },
  {
   "cell_type": "code",
   "execution_count": 63,
   "id": "422e7602",
   "metadata": {},
   "outputs": [
    {
     "data": {
      "text/plain": [
       "dict_items([('foo', 'bar'), (0, None), (1, '111'), ('spam', 'eggs')])"
      ]
     },
     "execution_count": 63,
     "metadata": {},
     "output_type": "execute_result"
    }
   ],
   "source": [
    "data.items()"
   ]
  },
  {
   "cell_type": "code",
   "execution_count": 64,
   "id": "91136a72",
   "metadata": {},
   "outputs": [
    {
     "name": "stdout",
     "output_type": "stream",
     "text": [
      "key = foo value = bar\n",
      "key = 0 value = None\n",
      "key = 1 value = 111\n",
      "key = spam value = eggs\n"
     ]
    }
   ],
   "source": [
    "for k, v in data.items():\n",
    "    print(\"key =\", k, \"value =\", v)"
   ]
  },
  {
   "cell_type": "code",
   "execution_count": 65,
   "id": "e6d0acab",
   "metadata": {},
   "outputs": [
    {
     "name": "stdout",
     "output_type": "stream",
     "text": [
      "{'foo': 'value bar', 0: 'value None', 1: 'value 111', 'spam': 'value eggs'}\n"
     ]
    }
   ],
   "source": [
    "for k, v in data.items():\n",
    "    data[k] = f\"value {v}\"\n",
    "\n",
    "print(data)"
   ]
  },
  {
   "cell_type": "code",
   "execution_count": 66,
   "id": "2185adaa",
   "metadata": {},
   "outputs": [
    {
     "name": "stdout",
     "output_type": "stream",
     "text": [
      "item 0 key foo value value bar\n",
      "item 1 key 0 value value None\n",
      "item 2 key 1 value value 111\n",
      "item 3 key spam value value eggs\n"
     ]
    }
   ],
   "source": [
    "for i, (k, v) in enumerate(data.items()):\n",
    "    print(\"item\", i, \"key\", k, \"value\", v)"
   ]
  },
  {
   "cell_type": "code",
   "execution_count": 67,
   "id": "326ba8ea",
   "metadata": {},
   "outputs": [
    {
     "name": "stdout",
     "output_type": "stream",
     "text": [
      "item 1 key foo value value bar\n",
      "item 2 key 0 value value None\n",
      "item 3 key 1 value value 111\n",
      "item 4 key spam value value eggs\n"
     ]
    }
   ],
   "source": [
    "for i, (k, v) in enumerate(data.items(), start=1):\n",
    "    print(\"item\", i, \"key\", k, \"value\", v)"
   ]
  },
  {
   "cell_type": "code",
   "execution_count": 68,
   "id": "918f2c66",
   "metadata": {},
   "outputs": [],
   "source": [
    "# f(x) = x * 2\n",
    "\n",
    "def f(x):\n",
    "    return x * 2"
   ]
  },
  {
   "cell_type": "code",
   "execution_count": 69,
   "id": "3cb2ecad",
   "metadata": {},
   "outputs": [
    {
     "data": {
      "text/plain": [
       "6"
      ]
     },
     "execution_count": 69,
     "metadata": {},
     "output_type": "execute_result"
    }
   ],
   "source": [
    "f(3)"
   ]
  },
  {
   "cell_type": "code",
   "execution_count": 70,
   "id": "f2701b35",
   "metadata": {},
   "outputs": [],
   "source": [
    "def hello():\n",
    "    print(\"hello world\")"
   ]
  },
  {
   "cell_type": "code",
   "execution_count": 71,
   "id": "aab1822d",
   "metadata": {},
   "outputs": [
    {
     "name": "stdout",
     "output_type": "stream",
     "text": [
      "hello world\n"
     ]
    }
   ],
   "source": [
    "hello()"
   ]
  },
  {
   "cell_type": "code",
   "execution_count": 72,
   "id": "3eb2e918",
   "metadata": {},
   "outputs": [
    {
     "name": "stdout",
     "output_type": "stream",
     "text": [
      "8\n"
     ]
    }
   ],
   "source": [
    "print(f(4))"
   ]
  },
  {
   "cell_type": "code",
   "execution_count": 73,
   "id": "ed91c74b",
   "metadata": {},
   "outputs": [
    {
     "name": "stdout",
     "output_type": "stream",
     "text": [
      "hello world\n",
      "None\n"
     ]
    }
   ],
   "source": [
    "print(hello())"
   ]
  },
  {
   "cell_type": "code",
   "execution_count": 74,
   "id": "13f75be3",
   "metadata": {},
   "outputs": [],
   "source": [
    "def power_number(number, power):\n",
    "    return number ** power"
   ]
  },
  {
   "cell_type": "code",
   "execution_count": 75,
   "id": "0b11bd2f",
   "metadata": {},
   "outputs": [
    {
     "data": {
      "text/plain": [
       "9"
      ]
     },
     "execution_count": 75,
     "metadata": {},
     "output_type": "execute_result"
    }
   ],
   "source": [
    "power_number(3, 2)"
   ]
  },
  {
   "cell_type": "code",
   "execution_count": 76,
   "id": "e553a266",
   "metadata": {},
   "outputs": [],
   "source": [
    "def power_numbers(*numbers, power=2):\n",
    "    print(\"power numbers\", numbers, \"to power\", power)\n",
    "    result = []\n",
    "    for number in numbers:\n",
    "        result.append(number ** power)\n",
    "    \n",
    "    return result"
   ]
  },
  {
   "cell_type": "code",
   "execution_count": 77,
   "id": "3b5969e8",
   "metadata": {},
   "outputs": [
    {
     "name": "stdout",
     "output_type": "stream",
     "text": [
      "power numbers (4,) to power 2\n"
     ]
    },
    {
     "data": {
      "text/plain": [
       "[16]"
      ]
     },
     "execution_count": 77,
     "metadata": {},
     "output_type": "execute_result"
    }
   ],
   "source": [
    "power_numbers(4)"
   ]
  },
  {
   "cell_type": "code",
   "execution_count": 78,
   "id": "86d4f8fe",
   "metadata": {},
   "outputs": [
    {
     "name": "stdout",
     "output_type": "stream",
     "text": [
      "power numbers (4, 3, 5) to power 2\n"
     ]
    },
    {
     "data": {
      "text/plain": [
       "[16, 9, 25]"
      ]
     },
     "execution_count": 78,
     "metadata": {},
     "output_type": "execute_result"
    }
   ],
   "source": [
    "power_numbers(4, 3, 5)"
   ]
  },
  {
   "cell_type": "code",
   "execution_count": 79,
   "id": "f4f08910",
   "metadata": {},
   "outputs": [
    {
     "name": "stdout",
     "output_type": "stream",
     "text": [
      "power numbers (4, 3, 5) to power 3\n"
     ]
    },
    {
     "data": {
      "text/plain": [
       "[64, 27, 125]"
      ]
     },
     "execution_count": 79,
     "metadata": {},
     "output_type": "execute_result"
    }
   ],
   "source": [
    "power_numbers(4, 3, 5, power=3)"
   ]
  },
  {
   "cell_type": "code",
   "execution_count": 80,
   "id": "2a5344f2",
   "metadata": {},
   "outputs": [],
   "source": [
    "def power_numbers2(numbers, power=2):\n",
    "    print(\"power numbers\", numbers, \"to power\", power)\n",
    "    result = []\n",
    "    for number in numbers:\n",
    "        result.append(number ** power)\n",
    "    \n",
    "    return result"
   ]
  },
  {
   "cell_type": "code",
   "execution_count": 81,
   "id": "9f2f7e9d",
   "metadata": {},
   "outputs": [
    {
     "name": "stdout",
     "output_type": "stream",
     "text": [
      "power numbers [1, 2, 3] to power 2\n"
     ]
    },
    {
     "data": {
      "text/plain": [
       "[1, 4, 9]"
      ]
     },
     "execution_count": 81,
     "metadata": {},
     "output_type": "execute_result"
    }
   ],
   "source": [
    "power_numbers2([1, 2, 3])"
   ]
  },
  {
   "cell_type": "code",
   "execution_count": 82,
   "id": "da7f88c4",
   "metadata": {},
   "outputs": [
    {
     "name": "stdout",
     "output_type": "stream",
     "text": [
      "power numbers [1, 2, 3, 5] to power 3\n"
     ]
    },
    {
     "data": {
      "text/plain": [
       "[1, 8, 27, 125]"
      ]
     },
     "execution_count": 82,
     "metadata": {},
     "output_type": "execute_result"
    }
   ],
   "source": [
    "power_numbers2([1, 2, 3, 5], 3)"
   ]
  },
  {
   "cell_type": "code",
   "execution_count": 83,
   "id": "be166c1b",
   "metadata": {},
   "outputs": [
    {
     "name": "stdout",
     "output_type": "stream",
     "text": [
      "1 3 5 ['a', 'b']\n"
     ]
    }
   ],
   "source": [
    "print(1, 3, 5, [\"a\", \"b\"])"
   ]
  },
  {
   "cell_type": "code",
   "execution_count": 84,
   "id": "c630d556",
   "metadata": {},
   "outputs": [
    {
     "name": "stdout",
     "output_type": "stream",
     "text": [
      "1 | 3 | 5 | ['a', 'b']\n"
     ]
    }
   ],
   "source": [
    "print(1, 3, 5, [\"a\", \"b\"], sep=\" | \")"
   ]
  },
  {
   "cell_type": "code",
   "execution_count": 85,
   "id": "f755d171",
   "metadata": {},
   "outputs": [],
   "source": [
    "def power_numbers3(*numbers, power=2):\n",
    "    print(\"power numbers\", numbers, \"to power\", power)\n",
    "    result = [number ** power for number in numbers]\n",
    "    return result"
   ]
  },
  {
   "cell_type": "code",
   "execution_count": 86,
   "id": "e16759cb",
   "metadata": {},
   "outputs": [
    {
     "name": "stdout",
     "output_type": "stream",
     "text": [
      "power numbers (3, 5, 7) to power 4\n"
     ]
    },
    {
     "data": {
      "text/plain": [
       "[81, 625, 2401]"
      ]
     },
     "execution_count": 86,
     "metadata": {},
     "output_type": "execute_result"
    }
   ],
   "source": [
    "power_numbers3(3,5,7, power=4)"
   ]
  },
  {
   "cell_type": "code",
   "execution_count": 88,
   "id": "10cdbfc5",
   "metadata": {},
   "outputs": [
    {
     "name": "stdout",
     "output_type": "stream",
     "text": [
      "[0, 2, 4, 6, 8, 10, 12, 14, 16, 18]\n"
     ]
    }
   ],
   "source": [
    "evens = [i for i in range(20) if i % 2 == 0]\n",
    "print(evens)"
   ]
  },
  {
   "cell_type": "code",
   "execution_count": 89,
   "id": "a0c141c3",
   "metadata": {},
   "outputs": [],
   "source": [
    "def power_number2(number, power=2):\n",
    "    return number ** power"
   ]
  },
  {
   "cell_type": "code",
   "execution_count": 90,
   "id": "03b1837d",
   "metadata": {},
   "outputs": [
    {
     "data": {
      "text/plain": [
       "9"
      ]
     },
     "execution_count": 90,
     "metadata": {},
     "output_type": "execute_result"
    }
   ],
   "source": [
    "power_number2(3)"
   ]
  },
  {
   "cell_type": "code",
   "execution_count": 91,
   "id": "a8e66a36",
   "metadata": {},
   "outputs": [
    {
     "data": {
      "text/plain": [
       "[0, 4, 16, 36, 64, 100, 144, 196, 256, 324]"
      ]
     },
     "execution_count": 91,
     "metadata": {},
     "output_type": "execute_result"
    }
   ],
   "source": [
    "[power_number2(i) for i in evens]"
   ]
  },
  {
   "cell_type": "code",
   "execution_count": 92,
   "id": "e2bbc5f8",
   "metadata": {},
   "outputs": [
    {
     "data": {
      "text/plain": [
       "[0, 4, 16, 36, 64, 100, 144, 196, 256, 324]"
      ]
     },
     "execution_count": 92,
     "metadata": {},
     "output_type": "execute_result"
    }
   ],
   "source": [
    "[power_number2(i) \n",
    " for i in evens]"
   ]
  },
  {
   "cell_type": "code",
   "execution_count": 93,
   "id": "d7d606e9",
   "metadata": {},
   "outputs": [
    {
     "data": {
      "text/plain": [
       "[0, 4, 16, 36, 64, 100, 144, 196, 256, 324]"
      ]
     },
     "execution_count": 93,
     "metadata": {},
     "output_type": "execute_result"
    }
   ],
   "source": [
    "list(map(power_number2, evens))"
   ]
  },
  {
   "cell_type": "code",
   "execution_count": 94,
   "id": "af3630a3",
   "metadata": {},
   "outputs": [
    {
     "data": {
      "text/plain": [
       "[0, 2, 4, 6, 8, 10, 12, 14, 16, 18]"
      ]
     },
     "execution_count": 94,
     "metadata": {},
     "output_type": "execute_result"
    }
   ],
   "source": [
    "evens"
   ]
  },
  {
   "cell_type": "code",
   "execution_count": 95,
   "id": "4eb03450",
   "metadata": {},
   "outputs": [
    {
     "data": {
      "text/plain": [
       "[0, 1, 2, 3, 4, 5, 6, 7, 8, 9, 10, 11, 12, 13, 14, 15, 16, 17, 18, 19]"
      ]
     },
     "execution_count": 95,
     "metadata": {},
     "output_type": "execute_result"
    }
   ],
   "source": [
    "list_of_numbers = list(range(20))\n",
    "list_of_numbers"
   ]
  },
  {
   "cell_type": "code",
   "execution_count": 96,
   "id": "ca6e77f1",
   "metadata": {},
   "outputs": [],
   "source": [
    "def is_odd(n):\n",
    "    # return n % 2 != 0\n",
    "    return n % 2"
   ]
  },
  {
   "cell_type": "code",
   "execution_count": 97,
   "id": "5aaa5425",
   "metadata": {},
   "outputs": [
    {
     "data": {
      "text/plain": [
       "0"
      ]
     },
     "execution_count": 97,
     "metadata": {},
     "output_type": "execute_result"
    }
   ],
   "source": [
    "is_odd(2)"
   ]
  },
  {
   "cell_type": "code",
   "execution_count": 98,
   "id": "e1d0fcd3",
   "metadata": {},
   "outputs": [
    {
     "data": {
      "text/plain": [
       "1"
      ]
     },
     "execution_count": 98,
     "metadata": {},
     "output_type": "execute_result"
    }
   ],
   "source": [
    "is_odd(3)"
   ]
  },
  {
   "cell_type": "code",
   "execution_count": 99,
   "id": "6bbaf03f",
   "metadata": {},
   "outputs": [],
   "source": [
    "def is_odd(n):\n",
    "    return n % 2 != 0"
   ]
  },
  {
   "cell_type": "code",
   "execution_count": 100,
   "id": "352978c9",
   "metadata": {},
   "outputs": [
    {
     "data": {
      "text/plain": [
       "False"
      ]
     },
     "execution_count": 100,
     "metadata": {},
     "output_type": "execute_result"
    }
   ],
   "source": [
    "is_odd(6)"
   ]
  },
  {
   "cell_type": "code",
   "execution_count": 101,
   "id": "501c6f42",
   "metadata": {},
   "outputs": [
    {
     "data": {
      "text/plain": [
       "True"
      ]
     },
     "execution_count": 101,
     "metadata": {},
     "output_type": "execute_result"
    }
   ],
   "source": [
    "is_odd(7)"
   ]
  },
  {
   "cell_type": "code",
   "execution_count": 102,
   "id": "1e6af1f0",
   "metadata": {},
   "outputs": [
    {
     "data": {
      "text/plain": [
       "[1, 3, 5, 7, 9, 11, 13, 15, 17, 19]"
      ]
     },
     "execution_count": 102,
     "metadata": {},
     "output_type": "execute_result"
    }
   ],
   "source": [
    "list(filter(is_odd, list_of_numbers))"
   ]
  },
  {
   "cell_type": "code",
   "execution_count": 103,
   "id": "0fbb1baa",
   "metadata": {},
   "outputs": [
    {
     "data": {
      "text/plain": [
       "[0, 1, 2, 3, 4, 5, 6, 7, 8, 9, 10, 11, 12, 13, 14, 15, 16, 17, 18, 19]"
      ]
     },
     "execution_count": 103,
     "metadata": {},
     "output_type": "execute_result"
    }
   ],
   "source": [
    "list_of_numbers"
   ]
  },
  {
   "cell_type": "code",
   "execution_count": 104,
   "id": "319b3cdd",
   "metadata": {},
   "outputs": [
    {
     "data": {
      "text/plain": [
       "<function __main__.power_number(number, power)>"
      ]
     },
     "execution_count": 104,
     "metadata": {},
     "output_type": "execute_result"
    }
   ],
   "source": [
    "power_number"
   ]
  },
  {
   "cell_type": "code",
   "execution_count": 105,
   "id": "fb2afaf4",
   "metadata": {},
   "outputs": [
    {
     "data": {
      "text/plain": [
       "[16, 1024, 343]"
      ]
     },
     "execution_count": 105,
     "metadata": {},
     "output_type": "execute_result"
    }
   ],
   "source": [
    "numbers = [2, 4, 7]\n",
    "powers = [4, 5, 3]\n",
    "\n",
    "list(map(power_number, numbers, powers))"
   ]
  },
  {
   "cell_type": "code",
   "execution_count": 106,
   "id": "d7a7e3b9",
   "metadata": {},
   "outputs": [
    {
     "data": {
      "text/plain": [
       "[16, 1024, 343]"
      ]
     },
     "execution_count": 106,
     "metadata": {},
     "output_type": "execute_result"
    }
   ],
   "source": [
    "pair = numbers, powers\n",
    "\n",
    "list(map(power_number, *pair))"
   ]
  },
  {
   "cell_type": "code",
   "execution_count": 107,
   "id": "82f902fe",
   "metadata": {},
   "outputs": [
    {
     "data": {
      "text/plain": [
       "([2, 4, 7], [4, 5, 3])"
      ]
     },
     "execution_count": 107,
     "metadata": {},
     "output_type": "execute_result"
    }
   ],
   "source": [
    "pair"
   ]
  },
  {
   "cell_type": "code",
   "execution_count": 108,
   "id": "aaf277aa",
   "metadata": {},
   "outputs": [
    {
     "data": {
      "text/plain": [
       "tuple"
      ]
     },
     "execution_count": 108,
     "metadata": {},
     "output_type": "execute_result"
    }
   ],
   "source": [
    "type(pair)"
   ]
  },
  {
   "cell_type": "code",
   "execution_count": 109,
   "id": "bb4d5657",
   "metadata": {},
   "outputs": [
    {
     "data": {
      "text/plain": [
       "{2: 4, 4: 5, 7: 3}"
      ]
     },
     "execution_count": 109,
     "metadata": {},
     "output_type": "execute_result"
    }
   ],
   "source": [
    "dict_of_nums = {\n",
    "    num: power\n",
    "    for num, power\n",
    "    in zip(numbers, powers)\n",
    "}\n",
    "dict_of_nums"
   ]
  },
  {
   "cell_type": "code",
   "execution_count": 111,
   "id": "f8a9964d",
   "metadata": {},
   "outputs": [
    {
     "data": {
      "text/plain": [
       "[16, 1024, 343]"
      ]
     },
     "execution_count": 111,
     "metadata": {},
     "output_type": "execute_result"
    }
   ],
   "source": [
    "list(map(power_number, *zip(*dict_of_nums.items())))"
   ]
  },
  {
   "cell_type": "code",
   "execution_count": 112,
   "id": "6a08772f",
   "metadata": {},
   "outputs": [
    {
     "data": {
      "text/plain": [
       "dict_items([(2, 4), (4, 5), (7, 3)])"
      ]
     },
     "execution_count": 112,
     "metadata": {},
     "output_type": "execute_result"
    }
   ],
   "source": [
    "dict_of_nums.items()"
   ]
  },
  {
   "cell_type": "code",
   "execution_count": 113,
   "id": "1102f6dc",
   "metadata": {},
   "outputs": [
    {
     "data": {
      "text/plain": [
       "[(2, 4, 7), (4, 5, 3)]"
      ]
     },
     "execution_count": 113,
     "metadata": {},
     "output_type": "execute_result"
    }
   ],
   "source": [
    "list(zip(*dict_of_nums.items()))"
   ]
  },
  {
   "cell_type": "code",
   "execution_count": 114,
   "id": "2af88e96",
   "metadata": {},
   "outputs": [
    {
     "data": {
      "text/plain": [
       "[16, 1024, 343]"
      ]
     },
     "execution_count": 114,
     "metadata": {},
     "output_type": "execute_result"
    }
   ],
   "source": [
    "list(map(power_number, numbers, powers))"
   ]
  },
  {
   "cell_type": "code",
   "execution_count": 115,
   "id": "20a75297",
   "metadata": {},
   "outputs": [],
   "source": [
    "powers.append(10)"
   ]
  },
  {
   "cell_type": "code",
   "execution_count": 116,
   "id": "101fad90",
   "metadata": {},
   "outputs": [
    {
     "data": {
      "text/plain": [
       "[16, 1024, 343]"
      ]
     },
     "execution_count": 116,
     "metadata": {},
     "output_type": "execute_result"
    }
   ],
   "source": [
    "list(map(power_number, numbers, powers))"
   ]
  },
  {
   "cell_type": "code",
   "execution_count": 117,
   "id": "97f8e3ba",
   "metadata": {},
   "outputs": [
    {
     "data": {
      "text/plain": [
       "([2, 4, 7], [4, 5, 3, 10])"
      ]
     },
     "execution_count": 117,
     "metadata": {},
     "output_type": "execute_result"
    }
   ],
   "source": [
    "numbers, powers"
   ]
  },
  {
   "cell_type": "code",
   "execution_count": null,
   "id": "5ab63c8d",
   "metadata": {},
   "outputs": [],
   "source": []
  }
 ],
 "metadata": {
  "kernelspec": {
   "display_name": "Python 3 (ipykernel)",
   "language": "python",
   "name": "python3"
  },
  "language_info": {
   "codemirror_mode": {
    "name": "ipython",
    "version": 3
   },
   "file_extension": ".py",
   "mimetype": "text/x-python",
   "name": "python",
   "nbconvert_exporter": "python",
   "pygments_lexer": "ipython3",
   "version": "3.9.1"
  }
 },
 "nbformat": 4,
 "nbformat_minor": 5
}
