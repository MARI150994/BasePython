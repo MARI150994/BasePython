{
 "cells": [
  {
   "cell_type": "code",
   "execution_count": 1,
   "id": "b7298b5e",
   "metadata": {},
   "outputs": [
    {
     "name": "stdout",
     "output_type": "stream",
     "text": [
      "Hello again\n"
     ]
    }
   ],
   "source": [
    "print(\"Hello again\")"
   ]
  },
  {
   "cell_type": "code",
   "execution_count": 2,
   "id": "050816c0",
   "metadata": {},
   "outputs": [
    {
     "name": "stdout",
     "output_type": "stream",
     "text": [
      "['a', 'bc', 'def']\n"
     ]
    }
   ],
   "source": [
    "list_of_strings = [\"a\", \"bc\", \"def\"]\n",
    "print(list_of_strings)"
   ]
  },
  {
   "cell_type": "code",
   "execution_count": 3,
   "id": "f859da82",
   "metadata": {},
   "outputs": [
    {
     "name": "stdout",
     "output_type": "stream",
     "text": [
      "a\n",
      "bc\n",
      "def\n"
     ]
    }
   ],
   "source": [
    "print(list_of_strings[0])\n",
    "print(list_of_strings[1])\n",
    "print(list_of_strings[2])"
   ]
  },
  {
   "cell_type": "code",
   "execution_count": 4,
   "id": "0d4a6244",
   "metadata": {},
   "outputs": [
    {
     "data": {
      "text/plain": [
       "3"
      ]
     },
     "execution_count": 4,
     "metadata": {},
     "output_type": "execute_result"
    }
   ],
   "source": [
    "len(list_of_strings)"
   ]
  },
  {
   "cell_type": "code",
   "execution_count": 5,
   "id": "e4288175",
   "metadata": {},
   "outputs": [
    {
     "name": "stdout",
     "output_type": "stream",
     "text": [
      "3\n"
     ]
    }
   ],
   "source": [
    "print(len(list_of_strings))"
   ]
  },
  {
   "cell_type": "code",
   "execution_count": 6,
   "id": "ddb96004",
   "metadata": {},
   "outputs": [
    {
     "name": "stdout",
     "output_type": "stream",
     "text": [
      "3\n",
      "None\n"
     ]
    }
   ],
   "source": [
    "print(print(len(list_of_strings)))"
   ]
  },
  {
   "cell_type": "code",
   "execution_count": 7,
   "id": "f7c43e26",
   "metadata": {},
   "outputs": [],
   "source": [
    "None"
   ]
  },
  {
   "cell_type": "code",
   "execution_count": 8,
   "id": "84f787a7",
   "metadata": {},
   "outputs": [
    {
     "name": "stdout",
     "output_type": "stream",
     "text": [
      "None\n"
     ]
    }
   ],
   "source": [
    "print(None)"
   ]
  },
  {
   "cell_type": "code",
   "execution_count": 9,
   "id": "b381f8cc",
   "metadata": {},
   "outputs": [
    {
     "data": {
      "text/plain": [
       "NoneType"
      ]
     },
     "execution_count": 9,
     "metadata": {},
     "output_type": "execute_result"
    }
   ],
   "source": [
    "type(None)"
   ]
  },
  {
   "cell_type": "code",
   "execution_count": 10,
   "id": "d6ba29e2",
   "metadata": {},
   "outputs": [
    {
     "name": "stdout",
     "output_type": "stream",
     "text": [
      "<class 'NoneType'>\n"
     ]
    }
   ],
   "source": [
    "print(type(None))"
   ]
  },
  {
   "cell_type": "code",
   "execution_count": 11,
   "id": "8b1e7b68",
   "metadata": {},
   "outputs": [
    {
     "name": "stdout",
     "output_type": "stream",
     "text": [
      "created a func <function hello_name at 0x108ab1f30>\n"
     ]
    }
   ],
   "source": [
    "def hello_name():\n",
    "    print(\"Hello name\")\n",
    "\n",
    "print(\"created a func\", hello_name)"
   ]
  },
  {
   "cell_type": "code",
   "execution_count": 12,
   "id": "f2053f67",
   "metadata": {},
   "outputs": [
    {
     "name": "stdout",
     "output_type": "stream",
     "text": [
      "Hello name\n"
     ]
    }
   ],
   "source": [
    "hello_name()"
   ]
  },
  {
   "cell_type": "code",
   "execution_count": 13,
   "id": "8624d75a",
   "metadata": {},
   "outputs": [
    {
     "name": "stdout",
     "output_type": "stream",
     "text": [
      "Hello name\n",
      "None\n"
     ]
    }
   ],
   "source": [
    "print(hello_name())"
   ]
  },
  {
   "cell_type": "code",
   "execution_count": 14,
   "id": "142689f7",
   "metadata": {},
   "outputs": [],
   "source": [
    "def square(number):\n",
    "    pass"
   ]
  },
  {
   "cell_type": "code",
   "execution_count": 15,
   "id": "3786ba68",
   "metadata": {},
   "outputs": [],
   "source": [
    "square(123)"
   ]
  },
  {
   "cell_type": "code",
   "execution_count": 16,
   "id": "5006a5e5",
   "metadata": {},
   "outputs": [],
   "source": [
    "def square(number):\n",
    "    print(\"process number\", number)\n",
    "    return number ** 2"
   ]
  },
  {
   "cell_type": "code",
   "execution_count": 17,
   "id": "4407e738",
   "metadata": {},
   "outputs": [
    {
     "name": "stdout",
     "output_type": "stream",
     "text": [
      "process number 123\n"
     ]
    },
    {
     "data": {
      "text/plain": [
       "15129"
      ]
     },
     "execution_count": 17,
     "metadata": {},
     "output_type": "execute_result"
    }
   ],
   "source": [
    "square(123)"
   ]
  },
  {
   "cell_type": "code",
   "execution_count": 19,
   "id": "817f1e7d",
   "metadata": {},
   "outputs": [],
   "source": [
    "number = 3"
   ]
  },
  {
   "cell_type": "code",
   "execution_count": 20,
   "id": "bc4c57ff",
   "metadata": {},
   "outputs": [
    {
     "name": "stdout",
     "output_type": "stream",
     "text": [
      "process number 5\n"
     ]
    },
    {
     "data": {
      "text/plain": [
       "25"
      ]
     },
     "execution_count": 20,
     "metadata": {},
     "output_type": "execute_result"
    }
   ],
   "source": [
    "square(5)"
   ]
  },
  {
   "cell_type": "code",
   "execution_count": 21,
   "id": "1fd9f473",
   "metadata": {},
   "outputs": [
    {
     "name": "stdout",
     "output_type": "stream",
     "text": [
      "process number 3\n"
     ]
    },
    {
     "data": {
      "text/plain": [
       "9"
      ]
     },
     "execution_count": 21,
     "metadata": {},
     "output_type": "execute_result"
    }
   ],
   "source": [
    "square(number)"
   ]
  },
  {
   "cell_type": "code",
   "execution_count": 22,
   "id": "5eb90a81",
   "metadata": {},
   "outputs": [],
   "source": [
    "value = 4"
   ]
  },
  {
   "cell_type": "code",
   "execution_count": 23,
   "id": "e0f958cb",
   "metadata": {},
   "outputs": [
    {
     "name": "stdout",
     "output_type": "stream",
     "text": [
      "process number 4\n"
     ]
    },
    {
     "data": {
      "text/plain": [
       "16"
      ]
     },
     "execution_count": 23,
     "metadata": {},
     "output_type": "execute_result"
    }
   ],
   "source": [
    "square(value)"
   ]
  },
  {
   "cell_type": "code",
   "execution_count": 24,
   "id": "33774eb8",
   "metadata": {},
   "outputs": [
    {
     "name": "stdout",
     "output_type": "stream",
     "text": [
      "Hello OTUS\n"
     ]
    }
   ],
   "source": [
    "print(\"Hello OTUS\")"
   ]
  },
  {
   "cell_type": "code",
   "execution_count": 25,
   "id": "6135d0d4",
   "metadata": {},
   "outputs": [
    {
     "name": "stdout",
     "output_type": "stream",
     "text": [
      "Hello Suren\n"
     ]
    }
   ],
   "source": [
    "print(\"Hello Suren\")"
   ]
  },
  {
   "cell_type": "code",
   "execution_count": 26,
   "id": "baa30dff",
   "metadata": {},
   "outputs": [],
   "source": [
    "def hello_name(name):\n",
    "    print(\"Hello\", name)"
   ]
  },
  {
   "cell_type": "code",
   "execution_count": 27,
   "id": "a4232251",
   "metadata": {},
   "outputs": [
    {
     "name": "stdout",
     "output_type": "stream",
     "text": [
      "Hello 213\n"
     ]
    }
   ],
   "source": [
    "hello_name(213)"
   ]
  },
  {
   "cell_type": "code",
   "execution_count": 28,
   "id": "e345f116",
   "metadata": {},
   "outputs": [
    {
     "name": "stdout",
     "output_type": "stream",
     "text": [
      "Hello Suren\n"
     ]
    }
   ],
   "source": [
    "hello_name(\"Suren\")"
   ]
  },
  {
   "cell_type": "code",
   "execution_count": 29,
   "id": "79e709ba",
   "metadata": {},
   "outputs": [
    {
     "name": "stdout",
     "output_type": "stream",
     "text": [
      "Hello [1, 2, 3]\n"
     ]
    }
   ],
   "source": [
    "hello_name([1,2,3])"
   ]
  },
  {
   "cell_type": "code",
   "execution_count": 30,
   "id": "290ba3dd",
   "metadata": {},
   "outputs": [
    {
     "name": "stdout",
     "output_type": "stream",
     "text": [
      "process number 7\n",
      "Hello 49\n"
     ]
    }
   ],
   "source": [
    "hello_name(square(7))"
   ]
  },
  {
   "cell_type": "code",
   "execution_count": 31,
   "id": "4dcf59fe",
   "metadata": {},
   "outputs": [
    {
     "name": "stdout",
     "output_type": "stream",
     "text": [
      "process number 7\n"
     ]
    },
    {
     "data": {
      "text/plain": [
       "49"
      ]
     },
     "execution_count": 31,
     "metadata": {},
     "output_type": "execute_result"
    }
   ],
   "source": [
    "square(7)"
   ]
  },
  {
   "cell_type": "code",
   "execution_count": 33,
   "id": "c3b3bb98",
   "metadata": {},
   "outputs": [
    {
     "name": "stdout",
     "output_type": "stream",
     "text": [
      "['a', 'bc', 'def']\n"
     ]
    }
   ],
   "source": [
    "print(list_of_strings)"
   ]
  },
  {
   "cell_type": "code",
   "execution_count": 34,
   "id": "24d19a21",
   "metadata": {},
   "outputs": [
    {
     "name": "stdout",
     "output_type": "stream",
     "text": [
      "a\n",
      "bc\n",
      "def\n"
     ]
    }
   ],
   "source": [
    "for value in list_of_strings:\n",
    "    print(value)"
   ]
  },
  {
   "cell_type": "code",
   "execution_count": 36,
   "id": "783f9334",
   "metadata": {},
   "outputs": [
    {
     "name": "stdout",
     "output_type": "stream",
     "text": [
      "a\n",
      "bc\n",
      "def\n"
     ]
    }
   ],
   "source": [
    "for some_value in list_of_strings:\n",
    "    print(some_value)"
   ]
  },
  {
   "cell_type": "code",
   "execution_count": 37,
   "id": "3bb2477c",
   "metadata": {},
   "outputs": [
    {
     "name": "stdout",
     "output_type": "stream",
     "text": [
      "['Moscow', 'Sochi', 'Ekat..', 'Voronezh']\n"
     ]
    }
   ],
   "source": [
    "cities = [\"Moscow\", \"Sochi\", \"Ekat..\", \"Voronezh\"]\n",
    "print(cities)"
   ]
  },
  {
   "cell_type": "code",
   "execution_count": 38,
   "id": "35eec55a",
   "metadata": {},
   "outputs": [
    {
     "name": "stdout",
     "output_type": "stream",
     "text": [
      "vizit Moscow\n",
      "vizit Sochi\n",
      "vizit Ekat..\n",
      "vizit Voronezh\n"
     ]
    }
   ],
   "source": [
    "for city in cities:\n",
    "    print(\"vizit\", city)"
   ]
  },
  {
   "cell_type": "code",
   "execution_count": 39,
   "id": "141f7c7e",
   "metadata": {},
   "outputs": [
    {
     "data": {
      "text/plain": [
       "'Voronezh'"
      ]
     },
     "execution_count": 39,
     "metadata": {},
     "output_type": "execute_result"
    }
   ],
   "source": [
    "city"
   ]
  },
  {
   "cell_type": "code",
   "execution_count": 40,
   "id": "495d35e8",
   "metadata": {},
   "outputs": [
    {
     "data": {
      "text/plain": [
       "range(0, 10)"
      ]
     },
     "execution_count": 40,
     "metadata": {},
     "output_type": "execute_result"
    }
   ],
   "source": [
    "range(10)"
   ]
  },
  {
   "cell_type": "code",
   "execution_count": 41,
   "id": "802afe09",
   "metadata": {},
   "outputs": [
    {
     "name": "stdout",
     "output_type": "stream",
     "text": [
      "0\n",
      "1\n",
      "2\n",
      "3\n",
      "4\n"
     ]
    }
   ],
   "source": [
    "for i in range(5):\n",
    "    print(i)"
   ]
  },
  {
   "cell_type": "code",
   "execution_count": 42,
   "id": "48430c2e",
   "metadata": {},
   "outputs": [
    {
     "name": "stdout",
     "output_type": "stream",
     "text": [
      "0\n",
      "1\n"
     ]
    }
   ],
   "source": [
    "for i in range(2):\n",
    "    print(i)"
   ]
  },
  {
   "cell_type": "code",
   "execution_count": 44,
   "id": "be5d3b31",
   "metadata": {},
   "outputs": [
    {
     "name": "stdout",
     "output_type": "stream",
     "text": [
      "vizit Moscow\n",
      "vizit Sochi\n",
      "vizit Ekat..\n",
      "vizit Voronezh\n"
     ]
    }
   ],
   "source": [
    "# NEVER!!!!!!!!!\n",
    "for i in range(len(cities)):\n",
    "    print(\"vizit\", cities[i])\n",
    "# NEVER!!!!!!!!!"
   ]
  },
  {
   "cell_type": "code",
   "execution_count": 45,
   "id": "10b6264b",
   "metadata": {},
   "outputs": [
    {
     "name": "stdout",
     "output_type": "stream",
     "text": [
      "vizit Moscow\n",
      "vizit Sochi\n",
      "vizit Ekat..\n",
      "vizit Voronezh\n"
     ]
    }
   ],
   "source": [
    "for city in cities:\n",
    "    print(\"vizit\", city)"
   ]
  },
  {
   "cell_type": "code",
   "execution_count": 46,
   "id": "eb755581",
   "metadata": {},
   "outputs": [
    {
     "data": {
      "text/plain": [
       "[3, 4, 5, 6, 7, 8, 9, 10, 11, 12, 13]"
      ]
     },
     "execution_count": 46,
     "metadata": {},
     "output_type": "execute_result"
    }
   ],
   "source": [
    "list(range(3, 14))"
   ]
  },
  {
   "cell_type": "code",
   "execution_count": 47,
   "id": "41021666",
   "metadata": {},
   "outputs": [],
   "source": [
    "numbers = list(range(3, 14))"
   ]
  },
  {
   "cell_type": "code",
   "execution_count": 50,
   "id": "008353ca",
   "metadata": {},
   "outputs": [
    {
     "name": "stdout",
     "output_type": "stream",
     "text": [
      "4\n",
      "6\n",
      "8\n",
      "10\n",
      "12\n"
     ]
    }
   ],
   "source": [
    "for number in numbers:\n",
    "    if number % 2 == 0:\n",
    "        print(number)"
   ]
  },
  {
   "cell_type": "code",
   "execution_count": 51,
   "id": "44e892f6",
   "metadata": {},
   "outputs": [],
   "source": [
    "def only_evens(numbers_list):\n",
    "    for number in numbers_list:\n",
    "        if number % 2 == 0:\n",
    "            return number"
   ]
  },
  {
   "cell_type": "code",
   "execution_count": 52,
   "id": "1dcecdab",
   "metadata": {},
   "outputs": [
    {
     "data": {
      "text/plain": [
       "4"
      ]
     },
     "execution_count": 52,
     "metadata": {},
     "output_type": "execute_result"
    }
   ],
   "source": [
    "only_evens(numbers)"
   ]
  },
  {
   "cell_type": "code",
   "execution_count": 53,
   "id": "89df8a9f",
   "metadata": {},
   "outputs": [],
   "source": [
    "def only_evens(numbers_list):\n",
    "    for number in numbers_list:\n",
    "        if number % 2 == 0:\n",
    "            return number\n",
    "    print(\"no evens..\")"
   ]
  },
  {
   "cell_type": "code",
   "execution_count": 54,
   "id": "138ceb84",
   "metadata": {},
   "outputs": [
    {
     "data": {
      "text/plain": [
       "4"
      ]
     },
     "execution_count": 54,
     "metadata": {},
     "output_type": "execute_result"
    }
   ],
   "source": [
    "only_evens(numbers)"
   ]
  },
  {
   "cell_type": "code",
   "execution_count": 55,
   "id": "5eea5f2c",
   "metadata": {},
   "outputs": [
    {
     "name": "stdout",
     "output_type": "stream",
     "text": [
      "no evens..\n"
     ]
    }
   ],
   "source": [
    "only_evens([1,3,5])"
   ]
  },
  {
   "cell_type": "code",
   "execution_count": 56,
   "id": "f6f307ab",
   "metadata": {},
   "outputs": [],
   "source": [
    "def only_evens(numbers_list):\n",
    "    result = []\n",
    "    for number in numbers_list:\n",
    "        if number % 2 == 0:\n",
    "            result.append(number)\n",
    "    return result"
   ]
  },
  {
   "cell_type": "code",
   "execution_count": 57,
   "id": "74392b48",
   "metadata": {},
   "outputs": [
    {
     "data": {
      "text/plain": [
       "[]"
      ]
     },
     "execution_count": 57,
     "metadata": {},
     "output_type": "execute_result"
    }
   ],
   "source": [
    "only_evens([1,3,5])"
   ]
  },
  {
   "cell_type": "code",
   "execution_count": 58,
   "id": "652e49ff",
   "metadata": {},
   "outputs": [
    {
     "data": {
      "text/plain": [
       "[4, 6, 8, 10, 12]"
      ]
     },
     "execution_count": 58,
     "metadata": {},
     "output_type": "execute_result"
    }
   ],
   "source": [
    "only_evens(numbers)"
   ]
  },
  {
   "cell_type": "code",
   "execution_count": 59,
   "id": "ef0a3ab4",
   "metadata": {},
   "outputs": [
    {
     "data": {
      "text/plain": [
       "[3, 4, 5, 6, 7, 8, 9, 10, 11, 12, 13]"
      ]
     },
     "execution_count": 59,
     "metadata": {},
     "output_type": "execute_result"
    }
   ],
   "source": [
    "numbers"
   ]
  },
  {
   "cell_type": "code",
   "execution_count": 60,
   "id": "e2b03cd3",
   "metadata": {},
   "outputs": [],
   "source": [
    "def power_number(number, power):\n",
    "    print(\"power number\", number, \"to power\", power)\n",
    "    return number ** power"
   ]
  },
  {
   "cell_type": "code",
   "execution_count": 61,
   "id": "6bf28086",
   "metadata": {},
   "outputs": [
    {
     "name": "stdout",
     "output_type": "stream",
     "text": [
      "power number 3 to power 4\n"
     ]
    },
    {
     "data": {
      "text/plain": [
       "81"
      ]
     },
     "execution_count": 61,
     "metadata": {},
     "output_type": "execute_result"
    }
   ],
   "source": [
    "power_number(3, 4)"
   ]
  },
  {
   "cell_type": "code",
   "execution_count": 62,
   "id": "e9d32787",
   "metadata": {},
   "outputs": [
    {
     "name": "stdout",
     "output_type": "stream",
     "text": [
      "power number 5 to power 2\n"
     ]
    },
    {
     "data": {
      "text/plain": [
       "25"
      ]
     },
     "execution_count": 62,
     "metadata": {},
     "output_type": "execute_result"
    }
   ],
   "source": [
    "power_number(5, 2)"
   ]
  },
  {
   "cell_type": "code",
   "execution_count": 63,
   "id": "a6bbcb4d",
   "metadata": {},
   "outputs": [
    {
     "name": "stdout",
     "output_type": "stream",
     "text": [
      "power number 10 to power 0\n"
     ]
    },
    {
     "data": {
      "text/plain": [
       "1"
      ]
     },
     "execution_count": 63,
     "metadata": {},
     "output_type": "execute_result"
    }
   ],
   "source": [
    "power_number(10, 0)"
   ]
  },
  {
   "cell_type": "code",
   "execution_count": 65,
   "id": "d5b7fc8d",
   "metadata": {},
   "outputs": [],
   "source": [
    "def power_number(number, power=2):\n",
    "    print(\"power number\", number, \"to power\", power)\n",
    "    return number ** power"
   ]
  },
  {
   "cell_type": "code",
   "execution_count": 66,
   "id": "e5b27e90",
   "metadata": {},
   "outputs": [
    {
     "name": "stdout",
     "output_type": "stream",
     "text": [
      "power number 5 to power 3\n"
     ]
    },
    {
     "data": {
      "text/plain": [
       "125"
      ]
     },
     "execution_count": 66,
     "metadata": {},
     "output_type": "execute_result"
    }
   ],
   "source": [
    "power_number(5, 3)"
   ]
  },
  {
   "cell_type": "code",
   "execution_count": 67,
   "id": "b5f64200",
   "metadata": {},
   "outputs": [
    {
     "name": "stdout",
     "output_type": "stream",
     "text": [
      "power number 5 to power 2\n"
     ]
    },
    {
     "data": {
      "text/plain": [
       "25"
      ]
     },
     "execution_count": 67,
     "metadata": {},
     "output_type": "execute_result"
    }
   ],
   "source": [
    "power_number(5, 2)"
   ]
  },
  {
   "cell_type": "code",
   "execution_count": 68,
   "id": "dd5a0612",
   "metadata": {},
   "outputs": [
    {
     "name": "stdout",
     "output_type": "stream",
     "text": [
      "power number 5 to power 2\n"
     ]
    },
    {
     "data": {
      "text/plain": [
       "25"
      ]
     },
     "execution_count": 68,
     "metadata": {},
     "output_type": "execute_result"
    }
   ],
   "source": [
    "power_number(5)"
   ]
  },
  {
   "cell_type": "code",
   "execution_count": 69,
   "id": "ec58958c",
   "metadata": {},
   "outputs": [
    {
     "name": "stdout",
     "output_type": "stream",
     "text": [
      "power number 3 to power 2\n"
     ]
    },
    {
     "data": {
      "text/plain": [
       "9"
      ]
     },
     "execution_count": 69,
     "metadata": {},
     "output_type": "execute_result"
    }
   ],
   "source": [
    "power_number(3)"
   ]
  },
  {
   "cell_type": "code",
   "execution_count": 70,
   "id": "23e5713f",
   "metadata": {},
   "outputs": [],
   "source": [
    "number = 2"
   ]
  },
  {
   "cell_type": "code",
   "execution_count": 71,
   "id": "5a476a87",
   "metadata": {},
   "outputs": [
    {
     "name": "stdout",
     "output_type": "stream",
     "text": [
      "power number 3 to power 2\n"
     ]
    },
    {
     "data": {
      "text/plain": [
       "9"
      ]
     },
     "execution_count": 71,
     "metadata": {},
     "output_type": "execute_result"
    }
   ],
   "source": [
    "power_number(3, number)"
   ]
  },
  {
   "cell_type": "code",
   "execution_count": 72,
   "id": "39b9078e",
   "metadata": {},
   "outputs": [
    {
     "name": "stdout",
     "output_type": "stream",
     "text": [
      "power number 2 to power 2\n"
     ]
    },
    {
     "data": {
      "text/plain": [
       "4"
      ]
     },
     "execution_count": 72,
     "metadata": {},
     "output_type": "execute_result"
    }
   ],
   "source": [
    "power_number(number, number)"
   ]
  },
  {
   "cell_type": "code",
   "execution_count": 73,
   "id": "8cc34024",
   "metadata": {},
   "outputs": [
    {
     "name": "stdout",
     "output_type": "stream",
     "text": [
      "power number 5 to power 5\n"
     ]
    },
    {
     "data": {
      "text/plain": [
       "3125"
      ]
     },
     "execution_count": 73,
     "metadata": {},
     "output_type": "execute_result"
    }
   ],
   "source": [
    "number = 5\n",
    "power_number(number, number)"
   ]
  },
  {
   "cell_type": "code",
   "execution_count": 74,
   "id": "8349b90d",
   "metadata": {},
   "outputs": [
    {
     "name": "stdout",
     "output_type": "stream",
     "text": [
      "power number 5 to power 2\n"
     ]
    },
    {
     "data": {
      "text/plain": [
       "25"
      ]
     },
     "execution_count": 74,
     "metadata": {},
     "output_type": "execute_result"
    }
   ],
   "source": [
    "power_number(number)"
   ]
  },
  {
   "cell_type": "code",
   "execution_count": 75,
   "id": "43a790ff",
   "metadata": {},
   "outputs": [],
   "source": [
    "def extend_list(new_data_list, list_to_extend):\n",
    "    for data in new_data_list:\n",
    "        list_to_extend.append(data)\n",
    "    return list_to_extend"
   ]
  },
  {
   "cell_type": "code",
   "execution_count": 76,
   "id": "3a8d96bc",
   "metadata": {},
   "outputs": [
    {
     "data": {
      "text/plain": [
       "[0, 1, 2, 3]"
      ]
     },
     "execution_count": 76,
     "metadata": {},
     "output_type": "execute_result"
    }
   ],
   "source": [
    "extend_list([2, 3], [0, 1])"
   ]
  },
  {
   "cell_type": "code",
   "execution_count": 77,
   "id": "7bd95cb4",
   "metadata": {},
   "outputs": [
    {
     "data": {
      "text/plain": [
       "['spam', 'eggs', 'foo', 'bar']"
      ]
     },
     "execution_count": 77,
     "metadata": {},
     "output_type": "execute_result"
    }
   ],
   "source": [
    "extend_list(['foo', 'bar'], ['spam', 'eggs'])"
   ]
  },
  {
   "cell_type": "code",
   "execution_count": 78,
   "id": "b3fabfc3",
   "metadata": {},
   "outputs": [
    {
     "data": {
      "text/plain": [
       "['foo', 'bar']"
      ]
     },
     "execution_count": 78,
     "metadata": {},
     "output_type": "execute_result"
    }
   ],
   "source": [
    "extend_list(['foo', 'bar'], [])"
   ]
  },
  {
   "cell_type": "code",
   "execution_count": 79,
   "id": "8e80e6bf",
   "metadata": {},
   "outputs": [
    {
     "name": "stdout",
     "output_type": "stream",
     "text": [
      "list1 is list2? False\n",
      "list1 is list3? False\n",
      "list2 is list3? True\n"
     ]
    }
   ],
   "source": [
    "list1 = ['foo', 'bar']\n",
    "list2 = []\n",
    "list3 = extend_list(list1, list2)\n",
    "print(\"list1 is list2?\", list1 is list2)\n",
    "print(\"list1 is list3?\", list1 is list3)\n",
    "print(\"list2 is list3?\", list2 is list3)"
   ]
  },
  {
   "cell_type": "code",
   "execution_count": 80,
   "id": "f8137401",
   "metadata": {},
   "outputs": [
    {
     "name": "stdout",
     "output_type": "stream",
     "text": [
      "['foo', 'bar']\n"
     ]
    }
   ],
   "source": [
    "print(list3)"
   ]
  },
  {
   "cell_type": "code",
   "execution_count": 81,
   "id": "3a7b0f3f",
   "metadata": {},
   "outputs": [
    {
     "data": {
      "text/plain": [
       "True"
      ]
     },
     "execution_count": 81,
     "metadata": {},
     "output_type": "execute_result"
    }
   ],
   "source": [
    "list1 == list3"
   ]
  },
  {
   "cell_type": "code",
   "execution_count": 82,
   "id": "939a2f79",
   "metadata": {},
   "outputs": [
    {
     "data": {
      "text/plain": [
       "True"
      ]
     },
     "execution_count": 82,
     "metadata": {},
     "output_type": "execute_result"
    }
   ],
   "source": [
    "list2 == list1"
   ]
  },
  {
   "cell_type": "code",
   "execution_count": 83,
   "id": "4e898269",
   "metadata": {},
   "outputs": [
    {
     "data": {
      "text/plain": [
       "['foo', 'bar']"
      ]
     },
     "execution_count": 83,
     "metadata": {},
     "output_type": "execute_result"
    }
   ],
   "source": [
    "list3"
   ]
  },
  {
   "cell_type": "code",
   "execution_count": 84,
   "id": "ad853396",
   "metadata": {},
   "outputs": [
    {
     "data": {
      "text/plain": [
       "['foo', 'bar']"
      ]
     },
     "execution_count": 84,
     "metadata": {},
     "output_type": "execute_result"
    }
   ],
   "source": [
    "list2"
   ]
  },
  {
   "cell_type": "code",
   "execution_count": 85,
   "id": "16254955",
   "metadata": {},
   "outputs": [
    {
     "data": {
      "text/plain": [
       "['foo', 'bar']"
      ]
     },
     "execution_count": 85,
     "metadata": {},
     "output_type": "execute_result"
    }
   ],
   "source": [
    "list1"
   ]
  },
  {
   "cell_type": "code",
   "execution_count": 86,
   "id": "bd324d66",
   "metadata": {},
   "outputs": [
    {
     "data": {
      "text/plain": [
       "'bar'"
      ]
     },
     "execution_count": 86,
     "metadata": {},
     "output_type": "execute_result"
    }
   ],
   "source": [
    "list1.pop()"
   ]
  },
  {
   "cell_type": "code",
   "execution_count": 87,
   "id": "c16fb67f",
   "metadata": {},
   "outputs": [
    {
     "data": {
      "text/plain": [
       "['foo']"
      ]
     },
     "execution_count": 87,
     "metadata": {},
     "output_type": "execute_result"
    }
   ],
   "source": [
    "list1"
   ]
  },
  {
   "cell_type": "code",
   "execution_count": 88,
   "id": "412910b5",
   "metadata": {},
   "outputs": [
    {
     "data": {
      "text/plain": [
       "['foo', 'bar']"
      ]
     },
     "execution_count": 88,
     "metadata": {},
     "output_type": "execute_result"
    }
   ],
   "source": [
    "list2"
   ]
  },
  {
   "cell_type": "code",
   "execution_count": 89,
   "id": "78bd18ac",
   "metadata": {},
   "outputs": [
    {
     "data": {
      "text/plain": [
       "['foo', 'bar']"
      ]
     },
     "execution_count": 89,
     "metadata": {},
     "output_type": "execute_result"
    }
   ],
   "source": [
    "list3"
   ]
  },
  {
   "cell_type": "code",
   "execution_count": 90,
   "id": "4a6d53bf",
   "metadata": {},
   "outputs": [],
   "source": [
    "list3.append('spam')"
   ]
  },
  {
   "cell_type": "code",
   "execution_count": 91,
   "id": "07dc5554",
   "metadata": {},
   "outputs": [
    {
     "data": {
      "text/plain": [
       "['foo']"
      ]
     },
     "execution_count": 91,
     "metadata": {},
     "output_type": "execute_result"
    }
   ],
   "source": [
    "list1"
   ]
  },
  {
   "cell_type": "code",
   "execution_count": 92,
   "id": "e9e94371",
   "metadata": {},
   "outputs": [
    {
     "data": {
      "text/plain": [
       "['foo', 'bar', 'spam']"
      ]
     },
     "execution_count": 92,
     "metadata": {},
     "output_type": "execute_result"
    }
   ],
   "source": [
    "list2"
   ]
  },
  {
   "cell_type": "code",
   "execution_count": 93,
   "id": "ad65ddd5",
   "metadata": {},
   "outputs": [
    {
     "data": {
      "text/plain": [
       "['foo', 'bar', 'spam']"
      ]
     },
     "execution_count": 93,
     "metadata": {},
     "output_type": "execute_result"
    }
   ],
   "source": [
    "list3"
   ]
  },
  {
   "cell_type": "code",
   "execution_count": 94,
   "id": "633d6221",
   "metadata": {},
   "outputs": [
    {
     "data": {
      "text/plain": [
       "True"
      ]
     },
     "execution_count": 94,
     "metadata": {},
     "output_type": "execute_result"
    }
   ],
   "source": [
    "list2 is list3"
   ]
  },
  {
   "cell_type": "code",
   "execution_count": 95,
   "id": "f9a7f278",
   "metadata": {},
   "outputs": [
    {
     "data": {
      "text/plain": [
       "True"
      ]
     },
     "execution_count": 95,
     "metadata": {},
     "output_type": "execute_result"
    }
   ],
   "source": [
    "list2 == list3"
   ]
  },
  {
   "cell_type": "code",
   "execution_count": 96,
   "id": "8eff52b3",
   "metadata": {},
   "outputs": [],
   "source": [
    "def extend_list(new_data_list, list_to_extend=[]):\n",
    "    for data in new_data_list:\n",
    "        list_to_extend.append(data)\n",
    "    return list_to_extend"
   ]
  },
  {
   "cell_type": "code",
   "execution_count": 97,
   "id": "ce68af69",
   "metadata": {},
   "outputs": [
    {
     "data": {
      "text/plain": [
       "[0, 1, 2]"
      ]
     },
     "execution_count": 97,
     "metadata": {},
     "output_type": "execute_result"
    }
   ],
   "source": [
    "extend_list([1, 2], [0])"
   ]
  },
  {
   "cell_type": "code",
   "execution_count": 98,
   "id": "46a36458",
   "metadata": {},
   "outputs": [
    {
     "data": {
      "text/plain": [
       "['spam', 'eggs', 'fizz', 'buzz']"
      ]
     },
     "execution_count": 98,
     "metadata": {},
     "output_type": "execute_result"
    }
   ],
   "source": [
    "extend_list(['fizz', 'buzz'], ['spam', 'eggs'])"
   ]
  },
  {
   "cell_type": "code",
   "execution_count": 99,
   "id": "d6331cc1",
   "metadata": {},
   "outputs": [
    {
     "data": {
      "text/plain": [
       "['fizz', 'buzz']"
      ]
     },
     "execution_count": 99,
     "metadata": {},
     "output_type": "execute_result"
    }
   ],
   "source": [
    "extend_list(['fizz', 'buzz'], [])"
   ]
  },
  {
   "cell_type": "code",
   "execution_count": 100,
   "id": "19e56423",
   "metadata": {},
   "outputs": [
    {
     "data": {
      "text/plain": [
       "[1, 2]"
      ]
     },
     "execution_count": 100,
     "metadata": {},
     "output_type": "execute_result"
    }
   ],
   "source": [
    "extend_list([1, 2], [])"
   ]
  },
  {
   "cell_type": "code",
   "execution_count": 101,
   "id": "882c7b9e",
   "metadata": {},
   "outputs": [
    {
     "data": {
      "text/plain": [
       "[1.5, 3.7]"
      ]
     },
     "execution_count": 101,
     "metadata": {},
     "output_type": "execute_result"
    }
   ],
   "source": [
    "extend_list([1.5, 3.7])"
   ]
  },
  {
   "cell_type": "code",
   "execution_count": 102,
   "id": "ff470b7c",
   "metadata": {},
   "outputs": [
    {
     "data": {
      "text/plain": [
       "['spam', 'eggs', 'fizz', 'buzz']"
      ]
     },
     "execution_count": 102,
     "metadata": {},
     "output_type": "execute_result"
    }
   ],
   "source": [
    "extend_list(['fizz', 'buzz'], ['spam', 'eggs'])"
   ]
  },
  {
   "cell_type": "code",
   "execution_count": 103,
   "id": "e8d7263f",
   "metadata": {},
   "outputs": [
    {
     "data": {
      "text/plain": [
       "['spam', 'eggs']"
      ]
     },
     "execution_count": 103,
     "metadata": {},
     "output_type": "execute_result"
    }
   ],
   "source": [
    "extend_list(['spam', 'eggs'], [])"
   ]
  },
  {
   "cell_type": "code",
   "execution_count": 104,
   "id": "601de974",
   "metadata": {},
   "outputs": [
    {
     "data": {
      "text/plain": [
       "[1.5, 3.7, 'spam', 'eggs']"
      ]
     },
     "execution_count": 104,
     "metadata": {},
     "output_type": "execute_result"
    }
   ],
   "source": [
    "extend_list(['spam', 'eggs'])"
   ]
  },
  {
   "cell_type": "code",
   "execution_count": 105,
   "id": "4d443038",
   "metadata": {},
   "outputs": [],
   "source": [
    "def extend_list(new_data_list, list_to_extend=None):\n",
    "    if list_to_extend is None:\n",
    "        list_to_extend = []\n",
    "    for data in new_data_list:\n",
    "        list_to_extend.append(data)\n",
    "    return list_to_extend"
   ]
  },
  {
   "cell_type": "code",
   "execution_count": 106,
   "id": "05314b80",
   "metadata": {},
   "outputs": [
    {
     "data": {
      "text/plain": [
       "['spam', 'eggs', 'fizz', 'buzz']"
      ]
     },
     "execution_count": 106,
     "metadata": {},
     "output_type": "execute_result"
    }
   ],
   "source": [
    "extend_list(['fizz', 'buzz'], ['spam', 'eggs'])"
   ]
  },
  {
   "cell_type": "code",
   "execution_count": 107,
   "id": "9ab773a5",
   "metadata": {},
   "outputs": [
    {
     "name": "stdout",
     "output_type": "stream",
     "text": [
      "list1 ['abc', 'qwe']\n",
      "list2 ['abc', 'qwe']\n",
      "list3 ['abc', 'qwe']\n",
      "list1 is list2? False\n",
      "list1 is list3? False\n",
      "list2 is list3? True\n"
     ]
    }
   ],
   "source": [
    "list1 = ['abc', 'qwe']\n",
    "list2 = []\n",
    "list3 = extend_list(list1, list2)\n",
    "print(\"list1\", list1)\n",
    "print(\"list2\", list2)\n",
    "print(\"list3\", list3)\n",
    "print(\"list1 is list2?\", list1 is list2)\n",
    "print(\"list1 is list3?\", list1 is list3)\n",
    "print(\"list2 is list3?\", list2 is list3)"
   ]
  },
  {
   "cell_type": "code",
   "execution_count": 108,
   "id": "05e36775",
   "metadata": {},
   "outputs": [
    {
     "data": {
      "text/plain": [
       "False"
      ]
     },
     "execution_count": 108,
     "metadata": {},
     "output_type": "execute_result"
    }
   ],
   "source": [
    "[] is None"
   ]
  },
  {
   "cell_type": "code",
   "execution_count": 109,
   "id": "d96a780c",
   "metadata": {},
   "outputs": [
    {
     "data": {
      "text/plain": [
       "['abc', 'qwe']"
      ]
     },
     "execution_count": 109,
     "metadata": {},
     "output_type": "execute_result"
    }
   ],
   "source": [
    "extend_list(list1)"
   ]
  },
  {
   "cell_type": "code",
   "execution_count": 110,
   "id": "51391146",
   "metadata": {},
   "outputs": [
    {
     "data": {
      "text/plain": [
       "[1, 2]"
      ]
     },
     "execution_count": 110,
     "metadata": {},
     "output_type": "execute_result"
    }
   ],
   "source": [
    "extend_list([1, 2])"
   ]
  },
  {
   "cell_type": "code",
   "execution_count": 111,
   "id": "a9d266f3",
   "metadata": {},
   "outputs": [],
   "source": [
    "def power_numbers(numbers_list, power=2):\n",
    "    result = []\n",
    "    for number in numbers_list:\n",
    "        result.append(number ** power)\n",
    "    return result"
   ]
  },
  {
   "cell_type": "code",
   "execution_count": 112,
   "id": "34b401f6",
   "metadata": {},
   "outputs": [
    {
     "data": {
      "text/plain": [
       "[0, 1, 4, 9, 16]"
      ]
     },
     "execution_count": 112,
     "metadata": {},
     "output_type": "execute_result"
    }
   ],
   "source": [
    "power_numbers(range(5))"
   ]
  },
  {
   "cell_type": "code",
   "execution_count": 113,
   "id": "eba9883e",
   "metadata": {},
   "outputs": [],
   "source": [
    "def power_numbers(numbers_list, power=2):\n",
    "    return [number ** power for number in numbers_list]"
   ]
  },
  {
   "cell_type": "code",
   "execution_count": 114,
   "id": "f6f94183",
   "metadata": {},
   "outputs": [
    {
     "data": {
      "text/plain": [
       "[0, 1, 4, 9, 16]"
      ]
     },
     "execution_count": 114,
     "metadata": {},
     "output_type": "execute_result"
    }
   ],
   "source": [
    "power_numbers(range(5))"
   ]
  },
  {
   "cell_type": "code",
   "execution_count": 115,
   "id": "d4c3cfaf",
   "metadata": {},
   "outputs": [
    {
     "data": {
      "text/plain": [
       "[0, 1, 8, 27, 64]"
      ]
     },
     "execution_count": 115,
     "metadata": {},
     "output_type": "execute_result"
    }
   ],
   "source": [
    "power_numbers(range(5), 3)"
   ]
  },
  {
   "cell_type": "code",
   "execution_count": 116,
   "id": "7d49ee78",
   "metadata": {},
   "outputs": [
    {
     "data": {
      "text/plain": [
       "range(5, 30, 4)"
      ]
     },
     "execution_count": 116,
     "metadata": {},
     "output_type": "execute_result"
    }
   ],
   "source": [
    "range(5, 30, 4)"
   ]
  },
  {
   "cell_type": "code",
   "execution_count": 117,
   "id": "a5e960f8",
   "metadata": {},
   "outputs": [
    {
     "data": {
      "text/plain": [
       "[5, 9, 13, 17, 21, 25, 29]"
      ]
     },
     "execution_count": 117,
     "metadata": {},
     "output_type": "execute_result"
    }
   ],
   "source": [
    "list(range(5, 30, 4))"
   ]
  },
  {
   "cell_type": "code",
   "execution_count": 118,
   "id": "ea6ed46a",
   "metadata": {},
   "outputs": [
    {
     "data": {
      "text/plain": [
       "[0, 1, 2, 3, 4]"
      ]
     },
     "execution_count": 118,
     "metadata": {},
     "output_type": "execute_result"
    }
   ],
   "source": [
    "list(range(5))"
   ]
  },
  {
   "cell_type": "code",
   "execution_count": 119,
   "id": "05de9657",
   "metadata": {},
   "outputs": [
    {
     "data": {
      "text/plain": [
       "['Moscow', 'Sochi', 'Ekat..', 'Voronezh']"
      ]
     },
     "execution_count": 119,
     "metadata": {},
     "output_type": "execute_result"
    }
   ],
   "source": [
    "cities"
   ]
  },
  {
   "cell_type": "code",
   "execution_count": 120,
   "id": "a6a9a7cf",
   "metadata": {},
   "outputs": [
    {
     "name": "stdout",
     "output_type": "stream",
     "text": [
      "vizit city № 0 : Moscow\n",
      "vizit city № 1 : Sochi\n",
      "vizit city № 2 : Ekat..\n",
      "vizit city № 3 : Voronezh\n"
     ]
    }
   ],
   "source": [
    "for i, city in enumerate(cities):\n",
    "    print(\"vizit city №\", i, \":\", city)"
   ]
  },
  {
   "cell_type": "code",
   "execution_count": 121,
   "id": "872be921",
   "metadata": {},
   "outputs": [
    {
     "name": "stdout",
     "output_type": "stream",
     "text": [
      "vizit city № 1 : Moscow\n",
      "vizit city № 2 : Sochi\n",
      "vizit city № 3 : Ekat..\n",
      "vizit city № 4 : Voronezh\n"
     ]
    }
   ],
   "source": [
    "for i, city in enumerate(cities, start=1):\n",
    "    print(\"vizit city №\", i, \":\", city)"
   ]
  },
  {
   "cell_type": "code",
   "execution_count": 122,
   "id": "6bc0eaa2",
   "metadata": {},
   "outputs": [
    {
     "name": "stdout",
     "output_type": "stream",
     "text": [
      "0\n",
      "1\n",
      "2\n",
      "3\n",
      "4\n",
      "5\n",
      "6\n",
      "7\n",
      "8\n",
      "9\n"
     ]
    }
   ],
   "source": [
    "for i in range(10):\n",
    "    print(i)"
   ]
  },
  {
   "cell_type": "code",
   "execution_count": 123,
   "id": "55de2aed",
   "metadata": {},
   "outputs": [
    {
     "data": {
      "text/plain": [
       "[0, 2, 4, 6, 8, 10, 12, 14]"
      ]
     },
     "execution_count": 123,
     "metadata": {},
     "output_type": "execute_result"
    }
   ],
   "source": [
    "[i for i in range(15) if i % 2 == 0]"
   ]
  },
  {
   "cell_type": "code",
   "execution_count": 124,
   "id": "11b20daf",
   "metadata": {},
   "outputs": [
    {
     "data": {
      "text/plain": [
       "[0, 1, 2, 3, 4, 5, 6, 7, 8, 9, 10, 11, 12, 13, 14]"
      ]
     },
     "execution_count": 124,
     "metadata": {},
     "output_type": "execute_result"
    }
   ],
   "source": [
    "list(range(15))"
   ]
  },
  {
   "cell_type": "code",
   "execution_count": 125,
   "id": "4d610bcd",
   "metadata": {},
   "outputs": [],
   "source": [
    "evens = [i for i in range(15) if i % 2 == 0]"
   ]
  },
  {
   "cell_type": "code",
   "execution_count": 126,
   "id": "5b9a11ef",
   "metadata": {},
   "outputs": [
    {
     "data": {
      "text/plain": [
       "[0, 2, 4, 6, 8, 10, 12, 14]"
      ]
     },
     "execution_count": 126,
     "metadata": {},
     "output_type": "execute_result"
    }
   ],
   "source": [
    "evens"
   ]
  },
  {
   "cell_type": "code",
   "execution_count": 127,
   "id": "c5bd3dbc",
   "metadata": {},
   "outputs": [
    {
     "data": {
      "text/plain": [
       "[0, 4, 16, 36, 64, 100, 144, 196]"
      ]
     },
     "execution_count": 127,
     "metadata": {},
     "output_type": "execute_result"
    }
   ],
   "source": [
    "[i ** 2 for i in range(15) if i % 2 == 0]"
   ]
  },
  {
   "cell_type": "code",
   "execution_count": 128,
   "id": "791a422a",
   "metadata": {},
   "outputs": [
    {
     "data": {
      "text/plain": [
       "[0, 1, 4, 9, 16]"
      ]
     },
     "execution_count": 128,
     "metadata": {},
     "output_type": "execute_result"
    }
   ],
   "source": [
    "[i ** 2 for i in range(5)]"
   ]
  },
  {
   "cell_type": "code",
   "execution_count": null,
   "id": "71d23190",
   "metadata": {},
   "outputs": [],
   "source": []
  }
 ],
 "metadata": {
  "kernelspec": {
   "display_name": "Python 3 (ipykernel)",
   "language": "python",
   "name": "python3"
  },
  "language_info": {
   "codemirror_mode": {
    "name": "ipython",
    "version": 3
   },
   "file_extension": ".py",
   "mimetype": "text/x-python",
   "name": "python",
   "nbconvert_exporter": "python",
   "pygments_lexer": "ipython3",
   "version": "3.10.4"
  }
 },
 "nbformat": 4,
 "nbformat_minor": 5
}
