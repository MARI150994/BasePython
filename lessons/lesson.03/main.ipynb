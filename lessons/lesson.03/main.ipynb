{
 "cells": [
  {
   "cell_type": "code",
   "execution_count": 1,
   "id": "aaac0728",
   "metadata": {},
   "outputs": [
    {
     "name": "stdout",
     "output_type": "stream",
     "text": [
      "hello world\n"
     ]
    }
   ],
   "source": [
    "print(\"hello world\")"
   ]
  },
  {
   "cell_type": "code",
   "execution_count": 2,
   "id": "0f3fcd3f",
   "metadata": {},
   "outputs": [
    {
     "name": "stdout",
     "output_type": "stream",
     "text": [
      "range(0, 10)\n"
     ]
    }
   ],
   "source": [
    "r = range(10)\n",
    "print(r)"
   ]
  },
  {
   "cell_type": "code",
   "execution_count": 3,
   "id": "039a956a",
   "metadata": {},
   "outputs": [
    {
     "name": "stdout",
     "output_type": "stream",
     "text": [
      "0\n",
      "1\n",
      "2\n",
      "3\n",
      "4\n",
      "5\n",
      "6\n",
      "7\n",
      "8\n",
      "9\n"
     ]
    }
   ],
   "source": [
    "for i in r:\n",
    "    print(i)"
   ]
  },
  {
   "cell_type": "code",
   "execution_count": 5,
   "id": "383348c6",
   "metadata": {},
   "outputs": [
    {
     "name": "stdout",
     "output_type": "stream",
     "text": [
      "0\n",
      "1\n",
      "2\n",
      "3\n",
      "4\n",
      "5\n",
      "6\n",
      "7\n",
      "8\n",
      "9\n"
     ]
    }
   ],
   "source": [
    "for i in r:\n",
    "    print(i)"
   ]
  },
  {
   "cell_type": "code",
   "execution_count": 6,
   "id": "ace88920",
   "metadata": {},
   "outputs": [
    {
     "data": {
      "text/plain": [
       "range(0, 10)"
      ]
     },
     "execution_count": 6,
     "metadata": {},
     "output_type": "execute_result"
    }
   ],
   "source": [
    "r"
   ]
  },
  {
   "cell_type": "code",
   "execution_count": 7,
   "id": "725821d7",
   "metadata": {},
   "outputs": [],
   "source": [
    "iter_r = iter(r)"
   ]
  },
  {
   "cell_type": "code",
   "execution_count": 8,
   "id": "c6e65924",
   "metadata": {},
   "outputs": [
    {
     "data": {
      "text/plain": [
       "<range_iterator at 0x10a75ff90>"
      ]
     },
     "execution_count": 8,
     "metadata": {},
     "output_type": "execute_result"
    }
   ],
   "source": [
    "iter_r"
   ]
  },
  {
   "cell_type": "code",
   "execution_count": 9,
   "id": "09f709e5",
   "metadata": {},
   "outputs": [
    {
     "data": {
      "text/plain": [
       "0"
      ]
     },
     "execution_count": 9,
     "metadata": {},
     "output_type": "execute_result"
    }
   ],
   "source": [
    "next(iter_r)"
   ]
  },
  {
   "cell_type": "code",
   "execution_count": 10,
   "id": "9a1ffe4d",
   "metadata": {},
   "outputs": [
    {
     "data": {
      "text/plain": [
       "1"
      ]
     },
     "execution_count": 10,
     "metadata": {},
     "output_type": "execute_result"
    }
   ],
   "source": [
    "next(iter_r)"
   ]
  },
  {
   "cell_type": "code",
   "execution_count": 11,
   "id": "2560e824",
   "metadata": {},
   "outputs": [
    {
     "data": {
      "text/plain": [
       "2"
      ]
     },
     "execution_count": 11,
     "metadata": {},
     "output_type": "execute_result"
    }
   ],
   "source": [
    "next(iter_r)"
   ]
  },
  {
   "cell_type": "code",
   "execution_count": 12,
   "id": "9972eea7",
   "metadata": {},
   "outputs": [
    {
     "data": {
      "text/plain": [
       "<list_iterator at 0x10a75ffd0>"
      ]
     },
     "execution_count": 12,
     "metadata": {},
     "output_type": "execute_result"
    }
   ],
   "source": [
    "my_list = [1, 2, 3]\n",
    "list_iterator = iter(my_list)\n",
    "list_iterator"
   ]
  },
  {
   "cell_type": "code",
   "execution_count": 13,
   "id": "da7c44c3",
   "metadata": {},
   "outputs": [
    {
     "data": {
      "text/plain": [
       "1"
      ]
     },
     "execution_count": 13,
     "metadata": {},
     "output_type": "execute_result"
    }
   ],
   "source": [
    "next(list_iterator)"
   ]
  },
  {
   "cell_type": "code",
   "execution_count": 14,
   "id": "6deadf93",
   "metadata": {},
   "outputs": [
    {
     "data": {
      "text/plain": [
       "2"
      ]
     },
     "execution_count": 14,
     "metadata": {},
     "output_type": "execute_result"
    }
   ],
   "source": [
    "next(list_iterator)"
   ]
  },
  {
   "cell_type": "code",
   "execution_count": 15,
   "id": "29732648",
   "metadata": {},
   "outputs": [
    {
     "data": {
      "text/plain": [
       "3"
      ]
     },
     "execution_count": 15,
     "metadata": {},
     "output_type": "execute_result"
    }
   ],
   "source": [
    "next(list_iterator)"
   ]
  },
  {
   "cell_type": "code",
   "execution_count": 16,
   "id": "7a771e62",
   "metadata": {},
   "outputs": [
    {
     "ename": "StopIteration",
     "evalue": "",
     "output_type": "error",
     "traceback": [
      "\u001b[0;31m---------------------------------------------------------------------------\u001b[0m",
      "\u001b[0;31mStopIteration\u001b[0m                             Traceback (most recent call last)",
      "\u001b[0;32m/var/folders/fj/49hkzfz15_zcq5jwvzbzk6fm0000gn/T/ipykernel_60232/1417790120.py\u001b[0m in \u001b[0;36m<module>\u001b[0;34m\u001b[0m\n\u001b[0;32m----> 1\u001b[0;31m \u001b[0mnext\u001b[0m\u001b[0;34m(\u001b[0m\u001b[0mlist_iterator\u001b[0m\u001b[0;34m)\u001b[0m\u001b[0;34m\u001b[0m\u001b[0;34m\u001b[0m\u001b[0m\n\u001b[0m",
      "\u001b[0;31mStopIteration\u001b[0m: "
     ]
    }
   ],
   "source": [
    "next(list_iterator)"
   ]
  },
  {
   "cell_type": "code",
   "execution_count": 17,
   "id": "9a37c01d",
   "metadata": {},
   "outputs": [
    {
     "data": {
      "text/plain": [
       "<list_iterator at 0x10a75ffd0>"
      ]
     },
     "execution_count": 17,
     "metadata": {},
     "output_type": "execute_result"
    }
   ],
   "source": [
    "list_iterator"
   ]
  },
  {
   "cell_type": "code",
   "execution_count": 18,
   "id": "e89c9ec3",
   "metadata": {},
   "outputs": [],
   "source": [
    "for i in list_iterator:\n",
    "    print(i)"
   ]
  },
  {
   "cell_type": "code",
   "execution_count": 19,
   "id": "82b04757",
   "metadata": {},
   "outputs": [
    {
     "name": "stdout",
     "output_type": "stream",
     "text": [
      "3\n",
      "4\n",
      "5\n",
      "6\n",
      "7\n",
      "8\n",
      "9\n"
     ]
    }
   ],
   "source": [
    "for i in iter_r:\n",
    "    print(i)"
   ]
  },
  {
   "cell_type": "code",
   "execution_count": 20,
   "id": "8bac0812",
   "metadata": {},
   "outputs": [],
   "source": [
    "for i in iter_r:\n",
    "    print(i)"
   ]
  },
  {
   "cell_type": "code",
   "execution_count": 21,
   "id": "2df4b6e0",
   "metadata": {},
   "outputs": [
    {
     "name": "stdout",
     "output_type": "stream",
     "text": [
      "1\n",
      "2\n",
      "3\n"
     ]
    }
   ],
   "source": [
    "for i in my_list:\n",
    "    print(i)"
   ]
  },
  {
   "cell_type": "code",
   "execution_count": 22,
   "id": "f8ff818d",
   "metadata": {},
   "outputs": [
    {
     "data": {
      "text/plain": [
       "[0, 1, 2]"
      ]
     },
     "execution_count": 22,
     "metadata": {},
     "output_type": "execute_result"
    }
   ],
   "source": [
    "[i for i in range(3)]"
   ]
  },
  {
   "cell_type": "code",
   "execution_count": 23,
   "id": "ef93b364",
   "metadata": {},
   "outputs": [
    {
     "data": {
      "text/plain": [
       "{0: '0', 1: '1', 2: '2', 3: '3', 4: '4'}"
      ]
     },
     "execution_count": 23,
     "metadata": {},
     "output_type": "execute_result"
    }
   ],
   "source": [
    "{i: str(i) for i in range(5)}"
   ]
  },
  {
   "cell_type": "code",
   "execution_count": 24,
   "id": "5be8a946",
   "metadata": {},
   "outputs": [
    {
     "data": {
      "text/plain": [
       "<generator object <genexpr> at 0x10a7585f0>"
      ]
     },
     "execution_count": 24,
     "metadata": {},
     "output_type": "execute_result"
    }
   ],
   "source": [
    "(i for i in range(3))"
   ]
  },
  {
   "cell_type": "code",
   "execution_count": 25,
   "id": "d2600f46",
   "metadata": {},
   "outputs": [
    {
     "data": {
      "text/plain": [
       "(0, 1, 2)"
      ]
     },
     "execution_count": 25,
     "metadata": {},
     "output_type": "execute_result"
    }
   ],
   "source": [
    "tuple(i for i in range(3))"
   ]
  },
  {
   "cell_type": "code",
   "execution_count": 26,
   "id": "b370e188",
   "metadata": {},
   "outputs": [
    {
     "name": "stdout",
     "output_type": "stream",
     "text": [
      "3\n",
      "4\n",
      "5\n",
      "6\n"
     ]
    }
   ],
   "source": [
    "g = (i for i in range(3, 7))\n",
    "for i in g:\n",
    "    print(i)"
   ]
  },
  {
   "cell_type": "code",
   "execution_count": 27,
   "id": "5074c4ec",
   "metadata": {},
   "outputs": [],
   "source": [
    "for i in g:\n",
    "    print(i)"
   ]
  },
  {
   "cell_type": "code",
   "execution_count": 28,
   "id": "0f34f7be",
   "metadata": {},
   "outputs": [],
   "source": [
    "def power_numbers(numbers, power=2):\n",
    "    print(\"we're inside power_numbers\")\n",
    "    for number in numbers:\n",
    "        print(\"process and yield\", number)\n",
    "        yield number ** power\n",
    "        print(\"got here after yield. checking the next iteration\")"
   ]
  },
  {
   "cell_type": "code",
   "execution_count": 29,
   "id": "16e0535d",
   "metadata": {},
   "outputs": [
    {
     "data": {
      "text/plain": [
       "<generator object power_numbers at 0x10e802740>"
      ]
     },
     "execution_count": 29,
     "metadata": {},
     "output_type": "execute_result"
    }
   ],
   "source": [
    "g = power_numbers(range(4, 8))\n",
    "g"
   ]
  },
  {
   "cell_type": "code",
   "execution_count": 30,
   "id": "9e429f5f",
   "metadata": {},
   "outputs": [
    {
     "name": "stdout",
     "output_type": "stream",
     "text": [
      "we're inside power_numbers\n",
      "process and yield 4\n"
     ]
    },
    {
     "data": {
      "text/plain": [
       "16"
      ]
     },
     "execution_count": 30,
     "metadata": {},
     "output_type": "execute_result"
    }
   ],
   "source": [
    "next(g)"
   ]
  },
  {
   "cell_type": "code",
   "execution_count": 31,
   "id": "04c27af5",
   "metadata": {},
   "outputs": [
    {
     "name": "stdout",
     "output_type": "stream",
     "text": [
      "got here after yield. checking the next iteration\n",
      "process and yield 5\n"
     ]
    },
    {
     "data": {
      "text/plain": [
       "25"
      ]
     },
     "execution_count": 31,
     "metadata": {},
     "output_type": "execute_result"
    }
   ],
   "source": [
    "next(g)"
   ]
  },
  {
   "cell_type": "code",
   "execution_count": 32,
   "id": "2a839bd6",
   "metadata": {},
   "outputs": [
    {
     "name": "stdout",
     "output_type": "stream",
     "text": [
      "got here after yield. checking the next iteration\n",
      "process and yield 6\n"
     ]
    },
    {
     "data": {
      "text/plain": [
       "36"
      ]
     },
     "execution_count": 32,
     "metadata": {},
     "output_type": "execute_result"
    }
   ],
   "source": [
    "next(g)"
   ]
  },
  {
   "cell_type": "code",
   "execution_count": 33,
   "id": "04ff2c41",
   "metadata": {},
   "outputs": [
    {
     "name": "stdout",
     "output_type": "stream",
     "text": [
      "got here after yield. checking the next iteration\n",
      "process and yield 7\n"
     ]
    },
    {
     "data": {
      "text/plain": [
       "49"
      ]
     },
     "execution_count": 33,
     "metadata": {},
     "output_type": "execute_result"
    }
   ],
   "source": [
    "next(g)"
   ]
  },
  {
   "cell_type": "code",
   "execution_count": 34,
   "id": "6bccd7a0",
   "metadata": {},
   "outputs": [
    {
     "name": "stdout",
     "output_type": "stream",
     "text": [
      "got here after yield. checking the next iteration\n"
     ]
    },
    {
     "ename": "StopIteration",
     "evalue": "",
     "output_type": "error",
     "traceback": [
      "\u001b[0;31m---------------------------------------------------------------------------\u001b[0m",
      "\u001b[0;31mStopIteration\u001b[0m                             Traceback (most recent call last)",
      "\u001b[0;32m/var/folders/fj/49hkzfz15_zcq5jwvzbzk6fm0000gn/T/ipykernel_60232/4253931490.py\u001b[0m in \u001b[0;36m<module>\u001b[0;34m\u001b[0m\n\u001b[0;32m----> 1\u001b[0;31m \u001b[0mnext\u001b[0m\u001b[0;34m(\u001b[0m\u001b[0mg\u001b[0m\u001b[0;34m)\u001b[0m\u001b[0;34m\u001b[0m\u001b[0;34m\u001b[0m\u001b[0m\n\u001b[0m",
      "\u001b[0;31mStopIteration\u001b[0m: "
     ]
    }
   ],
   "source": [
    "next(g)"
   ]
  },
  {
   "cell_type": "code",
   "execution_count": 35,
   "id": "613e5622",
   "metadata": {},
   "outputs": [
    {
     "data": {
      "text/plain": [
       "[16, 25, 36, 49]"
      ]
     },
     "execution_count": 35,
     "metadata": {},
     "output_type": "execute_result"
    }
   ],
   "source": [
    "[i ** 2 for i in range(4, 8)]"
   ]
  },
  {
   "cell_type": "code",
   "execution_count": 36,
   "id": "8772b700",
   "metadata": {},
   "outputs": [
    {
     "name": "stdout",
     "output_type": "stream",
     "text": [
      "we're inside power_numbers\n",
      "process and yield 0\n",
      "got here after yield. checking the next iteration\n",
      "process and yield 1\n",
      "got here after yield. checking the next iteration\n",
      "process and yield 2\n",
      "got here after yield. checking the next iteration\n",
      "process and yield 3\n",
      "got here after yield. checking the next iteration\n",
      "process and yield 4\n",
      "got here after yield. checking the next iteration\n",
      "process and yield 5\n",
      "got here after yield. checking the next iteration\n",
      "process and yield 6\n",
      "got here after yield. checking the next iteration\n",
      "process and yield 7\n",
      "got here after yield. checking the next iteration\n",
      "process and yield 8\n",
      "got here after yield. checking the next iteration\n",
      "process and yield 9\n",
      "got here after yield. checking the next iteration\n",
      "process and yield 10\n",
      "got here after yield. checking the next iteration\n",
      "process and yield 11\n",
      "got here after yield. checking the next iteration\n",
      "process and yield 12\n",
      "got here after yield. checking the next iteration\n",
      "process and yield 13\n",
      "got here after yield. checking the next iteration\n",
      "process and yield 14\n",
      "got here after yield. checking the next iteration\n",
      "process and yield 15\n",
      "got here after yield. checking the next iteration\n",
      "process and yield 16\n",
      "got here after yield. checking the next iteration\n",
      "process and yield 17\n",
      "got here after yield. checking the next iteration\n",
      "process and yield 18\n",
      "got here after yield. checking the next iteration\n",
      "process and yield 19\n",
      "got here after yield. checking the next iteration\n",
      "process and yield 20\n",
      "got here after yield. checking the next iteration\n",
      "process and yield 21\n",
      "got here after yield. checking the next iteration\n",
      "process and yield 22\n",
      "got here after yield. checking the next iteration\n",
      "process and yield 23\n",
      "got here after yield. checking the next iteration\n",
      "process and yield 24\n",
      "got here after yield. checking the next iteration\n",
      "process and yield 25\n",
      "got here after yield. checking the next iteration\n",
      "process and yield 26\n",
      "got here after yield. checking the next iteration\n",
      "process and yield 27\n",
      "got here after yield. checking the next iteration\n",
      "process and yield 28\n",
      "got here after yield. checking the next iteration\n",
      "process and yield 29\n",
      "got here after yield. checking the next iteration\n",
      "process and yield 30\n",
      "got here after yield. checking the next iteration\n",
      "process and yield 31\n",
      "got here after yield. checking the next iteration\n",
      "process and yield 32\n",
      "sq: 1024\n"
     ]
    }
   ],
   "source": [
    "for sq in power_numbers(range(2000)):\n",
    "    if sq > 1000:\n",
    "        print(\"sq:\", sq)\n",
    "        break"
   ]
  },
  {
   "cell_type": "code",
   "execution_count": 37,
   "id": "eb5a7af8",
   "metadata": {},
   "outputs": [],
   "source": [
    "def is_odd(number):\n",
    "    print(\"check if number\", number, \"is odd\")\n",
    "    return number % 2 != 0"
   ]
  },
  {
   "cell_type": "code",
   "execution_count": 38,
   "id": "6d7fb13e",
   "metadata": {},
   "outputs": [
    {
     "name": "stdout",
     "output_type": "stream",
     "text": [
      "check if number 3 is odd\n"
     ]
    },
    {
     "data": {
      "text/plain": [
       "True"
      ]
     },
     "execution_count": 38,
     "metadata": {},
     "output_type": "execute_result"
    }
   ],
   "source": [
    "is_odd(3)"
   ]
  },
  {
   "cell_type": "code",
   "execution_count": 39,
   "id": "887797b6",
   "metadata": {},
   "outputs": [
    {
     "name": "stdout",
     "output_type": "stream",
     "text": [
      "check if number 4 is odd\n"
     ]
    },
    {
     "data": {
      "text/plain": [
       "False"
      ]
     },
     "execution_count": 39,
     "metadata": {},
     "output_type": "execute_result"
    }
   ],
   "source": [
    "is_odd(4)"
   ]
  },
  {
   "cell_type": "code",
   "execution_count": 40,
   "id": "da050f7b",
   "metadata": {},
   "outputs": [],
   "source": [
    "odds_gen = filter(is_odd, range(1000))"
   ]
  },
  {
   "cell_type": "code",
   "execution_count": 41,
   "id": "6a3d496f",
   "metadata": {},
   "outputs": [
    {
     "data": {
      "text/plain": [
       "<filter at 0x10a7aadf0>"
      ]
     },
     "execution_count": 41,
     "metadata": {},
     "output_type": "execute_result"
    }
   ],
   "source": [
    "odds_gen"
   ]
  },
  {
   "cell_type": "code",
   "execution_count": 42,
   "id": "da561f01",
   "metadata": {},
   "outputs": [
    {
     "name": "stdout",
     "output_type": "stream",
     "text": [
      "check if number 0 is odd\n",
      "check if number 1 is odd\n",
      "odd: 1\n",
      "check if number 2 is odd\n",
      "check if number 3 is odd\n",
      "odd: 3\n",
      "check if number 4 is odd\n",
      "check if number 5 is odd\n",
      "odd: 5\n",
      "check if number 6 is odd\n",
      "check if number 7 is odd\n",
      "odd: 7\n",
      "check if number 8 is odd\n",
      "check if number 9 is odd\n",
      "odd: 9\n",
      "check if number 10 is odd\n",
      "check if number 11 is odd\n",
      "odd: 11\n",
      "check if number 12 is odd\n",
      "check if number 13 is odd\n",
      "odd: 13\n",
      "check if number 14 is odd\n",
      "check if number 15 is odd\n",
      "odd: 15\n",
      "check if number 16 is odd\n",
      "check if number 17 is odd\n",
      "odd: 17\n",
      "check if number 18 is odd\n",
      "check if number 19 is odd\n",
      "odd: 19\n",
      "check if number 20 is odd\n",
      "check if number 21 is odd\n",
      "odd: 21\n"
     ]
    }
   ],
   "source": [
    "for i in odds_gen:\n",
    "    print(\"odd:\", i)\n",
    "    if i > 20:\n",
    "        break"
   ]
  },
  {
   "cell_type": "code",
   "execution_count": 43,
   "id": "fca0520b",
   "metadata": {},
   "outputs": [
    {
     "name": "stdout",
     "output_type": "stream",
     "text": [
      "check if number 22 is odd\n",
      "check if number 23 is odd\n"
     ]
    },
    {
     "data": {
      "text/plain": [
       "23"
      ]
     },
     "execution_count": 43,
     "metadata": {},
     "output_type": "execute_result"
    }
   ],
   "source": [
    "next(odds_gen)"
   ]
  },
  {
   "cell_type": "code",
   "execution_count": 44,
   "id": "a61021bc",
   "metadata": {},
   "outputs": [
    {
     "data": {
      "text/plain": [
       "<function pow(base, exp, mod=None)>"
      ]
     },
     "execution_count": 44,
     "metadata": {},
     "output_type": "execute_result"
    }
   ],
   "source": [
    "pow"
   ]
  },
  {
   "cell_type": "code",
   "execution_count": 45,
   "id": "6e44a6aa",
   "metadata": {},
   "outputs": [],
   "source": [
    "def power_number(number, power=2):\n",
    "    print(\"power number\", number, \"to power\", power)\n",
    "    return number ** power"
   ]
  },
  {
   "cell_type": "code",
   "execution_count": 46,
   "id": "8dfbbcc0",
   "metadata": {},
   "outputs": [
    {
     "name": "stdout",
     "output_type": "stream",
     "text": [
      "power number 2 to power 2\n"
     ]
    },
    {
     "data": {
      "text/plain": [
       "4"
      ]
     },
     "execution_count": 46,
     "metadata": {},
     "output_type": "execute_result"
    }
   ],
   "source": [
    "power_number(2)"
   ]
  },
  {
   "cell_type": "code",
   "execution_count": 47,
   "id": "4e766929",
   "metadata": {},
   "outputs": [
    {
     "name": "stdout",
     "output_type": "stream",
     "text": [
      "power number 3 to power 2\n"
     ]
    },
    {
     "data": {
      "text/plain": [
       "9"
      ]
     },
     "execution_count": 47,
     "metadata": {},
     "output_type": "execute_result"
    }
   ],
   "source": [
    "power_number(3)"
   ]
  },
  {
   "cell_type": "code",
   "execution_count": 48,
   "id": "655a6872",
   "metadata": {},
   "outputs": [
    {
     "data": {
      "text/plain": [
       "<map at 0x10e826e20>"
      ]
     },
     "execution_count": 48,
     "metadata": {},
     "output_type": "execute_result"
    }
   ],
   "source": [
    "squares_gen = map(power_number, range(10000))\n",
    "squares_gen"
   ]
  },
  {
   "cell_type": "code",
   "execution_count": 49,
   "id": "544d1cf3",
   "metadata": {},
   "outputs": [
    {
     "name": "stdout",
     "output_type": "stream",
     "text": [
      "power number 0 to power 2\n"
     ]
    },
    {
     "data": {
      "text/plain": [
       "0"
      ]
     },
     "execution_count": 49,
     "metadata": {},
     "output_type": "execute_result"
    }
   ],
   "source": [
    "next(squares_gen)"
   ]
  },
  {
   "cell_type": "code",
   "execution_count": 50,
   "id": "08729c2f",
   "metadata": {},
   "outputs": [
    {
     "name": "stdout",
     "output_type": "stream",
     "text": [
      "power number 1 to power 2\n"
     ]
    },
    {
     "data": {
      "text/plain": [
       "1"
      ]
     },
     "execution_count": 50,
     "metadata": {},
     "output_type": "execute_result"
    }
   ],
   "source": [
    "next(squares_gen)"
   ]
  },
  {
   "cell_type": "code",
   "execution_count": 51,
   "id": "62185e7d",
   "metadata": {},
   "outputs": [
    {
     "name": "stdout",
     "output_type": "stream",
     "text": [
      "power number 2 to power 2\n"
     ]
    },
    {
     "data": {
      "text/plain": [
       "4"
      ]
     },
     "execution_count": 51,
     "metadata": {},
     "output_type": "execute_result"
    }
   ],
   "source": [
    "next(squares_gen)"
   ]
  },
  {
   "cell_type": "code",
   "execution_count": 52,
   "id": "335b952e",
   "metadata": {},
   "outputs": [
    {
     "name": "stdout",
     "output_type": "stream",
     "text": [
      "power number 3 to power 2\n"
     ]
    },
    {
     "data": {
      "text/plain": [
       "9"
      ]
     },
     "execution_count": 52,
     "metadata": {},
     "output_type": "execute_result"
    }
   ],
   "source": [
    "next(squares_gen)"
   ]
  },
  {
   "cell_type": "code",
   "execution_count": 53,
   "id": "e2bb3857",
   "metadata": {},
   "outputs": [
    {
     "name": "stdout",
     "output_type": "stream",
     "text": [
      "power number 4 to power 2\n",
      "16\n",
      "power number 5 to power 2\n",
      "25\n",
      "power number 6 to power 2\n",
      "36\n",
      "power number 7 to power 2\n",
      "49\n",
      "power number 8 to power 2\n",
      "64\n",
      "power number 9 to power 2\n",
      "81\n",
      "power number 10 to power 2\n",
      "100\n",
      "power number 11 to power 2\n",
      "121\n",
      "power number 12 to power 2\n",
      "144\n",
      "power number 13 to power 2\n",
      "169\n"
     ]
    }
   ],
   "source": [
    "for i in squares_gen:\n",
    "    print(i)\n",
    "    if i > 150:\n",
    "        break"
   ]
  },
  {
   "cell_type": "code",
   "execution_count": 55,
   "id": "df08b0fd",
   "metadata": {},
   "outputs": [],
   "source": [
    "# f = open(\"text.txt\", \"w\")\n",
    "# f.write(\"hello\")\n",
    "# f.close()\n",
    "\n",
    "with open(\"text.txt\", \"w\") as f:\n",
    "    f.write(\"Hello first line\\n\")\n",
    "    for i in range(1, 8):\n",
    "        f.write(str(i))\n",
    "        f.write(\"\\n\")"
   ]
  },
  {
   "cell_type": "code",
   "execution_count": 58,
   "id": "b8ad525f",
   "metadata": {},
   "outputs": [
    {
     "name": "stdout",
     "output_type": "stream",
     "text": [
      "['Hello first line\\n']\n",
      "['1\\n']\n",
      "['2\\n']\n",
      "['3\\n']\n"
     ]
    }
   ],
   "source": [
    "with open(\"text.txt\") as f:\n",
    "    for line in f:\n",
    "        print([line])\n",
    "        if '3' in line:\n",
    "            break"
   ]
  },
  {
   "cell_type": "code",
   "execution_count": 59,
   "id": "c6b54d6a",
   "metadata": {},
   "outputs": [
    {
     "data": {
      "text/plain": [
       "[1, 2, 3]"
      ]
     },
     "execution_count": 59,
     "metadata": {},
     "output_type": "execute_result"
    }
   ],
   "source": [
    "my_list"
   ]
  },
  {
   "cell_type": "code",
   "execution_count": 60,
   "id": "a6265daf",
   "metadata": {},
   "outputs": [
    {
     "data": {
      "text/plain": [
       "'3\\n'"
      ]
     },
     "execution_count": 60,
     "metadata": {},
     "output_type": "execute_result"
    }
   ],
   "source": [
    "line"
   ]
  },
  {
   "cell_type": "code",
   "execution_count": 61,
   "id": "96ede394",
   "metadata": {},
   "outputs": [
    {
     "name": "stdout",
     "output_type": "stream",
     "text": [
      "value = 2 when pow is 1\n",
      "value = 4 when pow is 2\n",
      "value = 8 when pow is 3\n",
      "value = 16 when pow is 4\n",
      "value = 32 when pow is 5\n",
      "value = 64 when pow is 6\n",
      "value = 128 when pow is 7\n",
      "value = 256 when pow is 8\n",
      "value = 512 when pow is 9\n",
      "value = 1024 when pow is 10\n",
      "value = 2048 when pow is 11\n",
      "value = 4096 when pow is 12\n",
      "value = 8192 when pow is 13\n",
      "value = 16384 when pow is 14\n",
      "result: 2 ^ 14 = 16384\n"
     ]
    }
   ],
   "source": [
    "i = 0\n",
    "value = 0\n",
    "\n",
    "while value < 10000:\n",
    "    # i = i + 1\n",
    "    i += 1\n",
    "    value = 2 ** i\n",
    "    print(\"value =\", value, \"when pow is\", i)\n",
    "\n",
    "print(\"result: 2 ^\", i, \"=\", value)"
   ]
  },
  {
   "cell_type": "code",
   "execution_count": 62,
   "id": "d071dd2b",
   "metadata": {},
   "outputs": [
    {
     "data": {
      "text/plain": [
       "16384"
      ]
     },
     "execution_count": 62,
     "metadata": {},
     "output_type": "execute_result"
    }
   ],
   "source": [
    "value"
   ]
  },
  {
   "cell_type": "code",
   "execution_count": 63,
   "id": "9b96f3de",
   "metadata": {},
   "outputs": [
    {
     "name": "stdout",
     "output_type": "stream",
     "text": [
      "value is not greater than 20.000\n"
     ]
    }
   ],
   "source": [
    "if value > 20000:\n",
    "    print(\"value is greater than 20.000\")\n",
    "else:\n",
    "    print(\"value is not greater than 20.000\")"
   ]
  },
  {
   "cell_type": "code",
   "execution_count": 64,
   "id": "02a7cbfb",
   "metadata": {},
   "outputs": [
    {
     "name": "stdout",
     "output_type": "stream",
     "text": [
      "value is greater than 10.000\n",
      "done\n"
     ]
    }
   ],
   "source": [
    "if value > 10000:\n",
    "    print(\"value is greater than 10.000\")\n",
    "else:\n",
    "    print(\"value is not greater than 10.000\")\n",
    "\n",
    "print(\"done\")"
   ]
  },
  {
   "cell_type": "code",
   "execution_count": 66,
   "id": "5bbe1b84",
   "metadata": {},
   "outputs": [
    {
     "name": "stdout",
     "output_type": "stream",
     "text": [
      "i = 0\n",
      "i = 1\n",
      "i = 2\n",
      "i = 3\n",
      "i = 4\n",
      "i = 5\n",
      "i = 6\n"
     ]
    }
   ],
   "source": [
    "for i in range(10):\n",
    "    print(\"i =\", i)\n",
    "    if i > 5:\n",
    "        break\n",
    "else:\n",
    "    print(\"nothing found\")"
   ]
  },
  {
   "cell_type": "code",
   "execution_count": 67,
   "id": "308b5d3b",
   "metadata": {},
   "outputs": [
    {
     "name": "stdout",
     "output_type": "stream",
     "text": [
      "i = 0\n",
      "i = 1\n",
      "i = 2\n",
      "i = 3\n",
      "i = 4\n",
      "nothing found\n"
     ]
    }
   ],
   "source": [
    "for i in range(5):\n",
    "    print(\"i =\", i)\n",
    "    if i > 5:\n",
    "        break\n",
    "else:\n",
    "    print(\"nothing found\")"
   ]
  },
  {
   "cell_type": "code",
   "execution_count": 68,
   "id": "c368566a",
   "metadata": {},
   "outputs": [
    {
     "name": "stdout",
     "output_type": "stream",
     "text": [
      "1 : amount is 1\n",
      "2 : amount is 3\n",
      "3 : amount is 6\n",
      "4 : amount is 10\n",
      "5 : amount is 15\n",
      "6 : amount is 21\n",
      "7 : amount is 28\n",
      "8 : amount is 36\n",
      "9 : amount is 45\n",
      "10 : amount is 55\n",
      "11 : amount is 66\n",
      "12 : amount is 78\n",
      "13 : amount is 91\n",
      "14 : amount is 105\n",
      "loop finished by condition\n"
     ]
    }
   ],
   "source": [
    "i = 0\n",
    "total_amount = 0\n",
    "\n",
    "while total_amount < 100:\n",
    "    i += 1\n",
    "    total_amount += i\n",
    "    print(i, \": amount is\", total_amount)\n",
    "else:\n",
    "    print(\"loop finished by condition\")"
   ]
  },
  {
   "cell_type": "code",
   "execution_count": 69,
   "id": "9a77d6c0",
   "metadata": {},
   "outputs": [
    {
     "name": "stdout",
     "output_type": "stream",
     "text": [
      "1 : amount is 1\n",
      "2 : amount is 3\n",
      "3 : amount is 6\n",
      "4 : amount is 10\n",
      "5 : amount is 15\n",
      "6 : amount is 21\n",
      "7 : amount is 28\n"
     ]
    }
   ],
   "source": [
    "i = 0\n",
    "total_amount = 0\n",
    "\n",
    "while total_amount < 100:\n",
    "    i += 1\n",
    "    total_amount += i\n",
    "    print(i, \": amount is\", total_amount)\n",
    "    if i == 7:\n",
    "        break\n",
    "else:\n",
    "    print(\"loop finished by condition\")"
   ]
  },
  {
   "cell_type": "code",
   "execution_count": 70,
   "id": "7eac8905",
   "metadata": {},
   "outputs": [
    {
     "name": "stdout",
     "output_type": "stream",
     "text": [
      "2 : amount is 2\n",
      "4 : amount is 6\n",
      "6 : amount is 12\n",
      "8 : amount is 20\n",
      "10 : amount is 30\n",
      "12 : amount is 42\n",
      "14 : amount is 56\n",
      "16 : amount is 72\n",
      "18 : amount is 90\n",
      "20 : amount is 110\n",
      "loop finished by condition\n"
     ]
    }
   ],
   "source": [
    "i = 0\n",
    "total_amount = 0\n",
    "\n",
    "while total_amount < 100:\n",
    "    i += 2\n",
    "    total_amount += i\n",
    "    print(i, \": amount is\", total_amount)\n",
    "    if i == 7:\n",
    "        break\n",
    "else:\n",
    "    print(\"loop finished by condition\")"
   ]
  },
  {
   "cell_type": "code",
   "execution_count": 71,
   "id": "e5d2417d",
   "metadata": {},
   "outputs": [
    {
     "name": "stdout",
     "output_type": "stream",
     "text": [
      "2 : amount is 2\n",
      "4 : amount is 6\n",
      "6 : amount is 12\n",
      "8 : amount is 20\n"
     ]
    }
   ],
   "source": [
    "i = 0\n",
    "total_amount = 0\n",
    "\n",
    "while total_amount < 100:\n",
    "    i += 2\n",
    "    total_amount += i\n",
    "    print(i, \": amount is\", total_amount)\n",
    "    if i >= 7:\n",
    "        break\n",
    "else:\n",
    "    print(\"loop finished by condition\")"
   ]
  },
  {
   "cell_type": "code",
   "execution_count": 72,
   "id": "898c7a17",
   "metadata": {},
   "outputs": [
    {
     "name": "stdout",
     "output_type": "stream",
     "text": [
      "['quick', 'brown', 'quick', 'fox', 'jumps', 'fox', 'over', 'over', 'dog']\n"
     ]
    }
   ],
   "source": [
    "strings = \"quick brown quick fox jumps fox over over dog\".split(\" \")\n",
    "print(strings)"
   ]
  },
  {
   "cell_type": "code",
   "execution_count": 73,
   "id": "92fa3ee0",
   "metadata": {},
   "outputs": [
    {
     "name": "stdout",
     "output_type": "stream",
     "text": [
      "found a new word: quick\n",
      "found a new word: brown\n",
      "found a new word: fox\n",
      "found a new word: jumps\n",
      "found a new word: over\n",
      "found a new word: dog\n"
     ]
    }
   ],
   "source": [
    "known_words = set()\n",
    "\n",
    "for word in strings:\n",
    "    if word in known_words:\n",
    "        continue\n",
    "    print(\"found a new word:\", word)\n",
    "    known_words.add(word)"
   ]
  },
  {
   "cell_type": "code",
   "execution_count": 75,
   "id": "ee715d31",
   "metadata": {},
   "outputs": [
    {
     "name": "stdout",
     "output_type": "stream",
     "text": [
      "found a new word: quick\n",
      "found a new word: brown\n",
      "found a new word: fox\n",
      "found a new word: jumps\n",
      "found a new word: over\n",
      "found a new word: dog\n"
     ]
    }
   ],
   "source": [
    "known_words = set()\n",
    "\n",
    "for word in strings:\n",
    "    if word in known_words:\n",
    "        continue\n",
    "    print(\"found a new word:\", word)\n",
    "    # known_words.add(word)\n",
    "    # known_words.add(word)\n",
    "    # known_words.add(word)\n",
    "    # known_words.add(word)\n",
    "    known_words.add(word)"
   ]
  },
  {
   "cell_type": "code",
   "execution_count": 76,
   "id": "7e9c8ccf",
   "metadata": {},
   "outputs": [],
   "source": [
    "# if not word in known_words: - never\n",
    "if word not in known_words:  # ok\n",
    "    pass"
   ]
  },
  {
   "cell_type": "code",
   "execution_count": 77,
   "id": "d0bb9d98",
   "metadata": {},
   "outputs": [
    {
     "data": {
      "text/plain": [
       "<function __main__.power_number(number, power=2)>"
      ]
     },
     "execution_count": 77,
     "metadata": {},
     "output_type": "execute_result"
    }
   ],
   "source": [
    "power_number"
   ]
  },
  {
   "cell_type": "code",
   "execution_count": 78,
   "id": "45cb382c",
   "metadata": {},
   "outputs": [
    {
     "name": "stdout",
     "output_type": "stream",
     "text": [
      "power number 3 to power 2\n"
     ]
    },
    {
     "data": {
      "text/plain": [
       "9"
      ]
     },
     "execution_count": 78,
     "metadata": {},
     "output_type": "execute_result"
    }
   ],
   "source": [
    "power_number(3)"
   ]
  },
  {
   "cell_type": "code",
   "execution_count": 79,
   "id": "df51e3c8",
   "metadata": {},
   "outputs": [],
   "source": [
    "from timeit import default_timer"
   ]
  },
  {
   "cell_type": "code",
   "execution_count": 80,
   "id": "b349313f",
   "metadata": {},
   "outputs": [
    {
     "data": {
      "text/plain": [
       "4652.6097315"
      ]
     },
     "execution_count": 80,
     "metadata": {},
     "output_type": "execute_result"
    }
   ],
   "source": [
    "default_timer()"
   ]
  },
  {
   "cell_type": "code",
   "execution_count": 81,
   "id": "fc7c7958",
   "metadata": {},
   "outputs": [
    {
     "data": {
      "text/plain": [
       "4654.172431"
      ]
     },
     "execution_count": 81,
     "metadata": {},
     "output_type": "execute_result"
    }
   ],
   "source": [
    "default_timer()"
   ]
  },
  {
   "cell_type": "code",
   "execution_count": 82,
   "id": "bc80bb7f",
   "metadata": {},
   "outputs": [
    {
     "data": {
      "text/plain": [
       "4659.179425083"
      ]
     },
     "execution_count": 82,
     "metadata": {},
     "output_type": "execute_result"
    }
   ],
   "source": [
    "default_timer()"
   ]
  },
  {
   "cell_type": "code",
   "execution_count": 83,
   "id": "f0cbe54c",
   "metadata": {},
   "outputs": [],
   "source": [
    "def timing_dec(func):\n",
    "    \n",
    "    def wrapper(*args, **kwargs):\n",
    "        start_time = default_timer()\n",
    "        result = func(*args, **kwargs)\n",
    "        amount = default_timer() - start_time\n",
    "        print(\"took time:\", amount)\n",
    "        return result\n",
    "    \n",
    "    return wrapper"
   ]
  },
  {
   "cell_type": "code",
   "execution_count": 84,
   "id": "55df670a",
   "metadata": {},
   "outputs": [
    {
     "data": {
      "text/plain": [
       "<function __main__.timing_dec.<locals>.wrapper(*args, **kwargs)>"
      ]
     },
     "execution_count": 84,
     "metadata": {},
     "output_type": "execute_result"
    }
   ],
   "source": [
    "power_number_new = timing_dec(power_number)\n",
    "power_number_new"
   ]
  },
  {
   "cell_type": "code",
   "execution_count": 85,
   "id": "d2d9ee7b",
   "metadata": {},
   "outputs": [
    {
     "name": "stdout",
     "output_type": "stream",
     "text": [
      "power number 123 to power 2\n",
      "took time: 0.0003750420000869781\n"
     ]
    },
    {
     "data": {
      "text/plain": [
       "15129"
      ]
     },
     "execution_count": 85,
     "metadata": {},
     "output_type": "execute_result"
    }
   ],
   "source": [
    "power_number_new(123)"
   ]
  },
  {
   "cell_type": "code",
   "execution_count": 90,
   "id": "9e6bbe26",
   "metadata": {},
   "outputs": [],
   "source": [
    "from functools import wraps\n",
    "\n",
    "\n",
    "def timing_dec(func):\n",
    "    \n",
    "    @wraps(func)\n",
    "    def wrapper(*args, **kwargs):\n",
    "        start_time = default_timer()\n",
    "        result = func(*args, **kwargs)\n",
    "        amount = default_timer() - start_time\n",
    "        print(\"took time: {:.10f} sec\".format(amount))\n",
    "        return result\n",
    "    \n",
    "    return wrapper"
   ]
  },
  {
   "cell_type": "code",
   "execution_count": 91,
   "id": "b9754c32",
   "metadata": {},
   "outputs": [],
   "source": [
    "@timing_dec\n",
    "def cube_number(number):\n",
    "    return number ** 3"
   ]
  },
  {
   "cell_type": "code",
   "execution_count": 92,
   "id": "4216de61",
   "metadata": {},
   "outputs": [
    {
     "data": {
      "text/plain": [
       "<function __main__.cube_number(number)>"
      ]
     },
     "execution_count": 92,
     "metadata": {},
     "output_type": "execute_result"
    }
   ],
   "source": [
    "cube_number"
   ]
  },
  {
   "cell_type": "code",
   "execution_count": 93,
   "id": "cf192c2c",
   "metadata": {},
   "outputs": [
    {
     "name": "stdout",
     "output_type": "stream",
     "text": [
      "took time: 0.0000022500 sec\n"
     ]
    },
    {
     "data": {
      "text/plain": [
       "64"
      ]
     },
     "execution_count": 93,
     "metadata": {},
     "output_type": "execute_result"
    }
   ],
   "source": [
    "cube_number(4)"
   ]
  },
  {
   "cell_type": "code",
   "execution_count": 94,
   "id": "70d8ef60",
   "metadata": {},
   "outputs": [
    {
     "name": "stdout",
     "output_type": "stream",
     "text": [
      "took time: 0.0000025830 sec\n"
     ]
    },
    {
     "data": {
      "text/plain": [
       "64"
      ]
     },
     "execution_count": 94,
     "metadata": {},
     "output_type": "execute_result"
    }
   ],
   "source": [
    "cube_number(4)"
   ]
  },
  {
   "cell_type": "code",
   "execution_count": 95,
   "id": "a20d4dc0",
   "metadata": {},
   "outputs": [
    {
     "data": {
      "text/plain": [
       "<function __main__.cube_number(number)>"
      ]
     },
     "execution_count": 95,
     "metadata": {},
     "output_type": "execute_result"
    }
   ],
   "source": [
    "cube_number.__wrapped__"
   ]
  },
  {
   "cell_type": "code",
   "execution_count": 96,
   "id": "c6298ca5",
   "metadata": {},
   "outputs": [
    {
     "name": "stdout",
     "output_type": "stream",
     "text": [
      "<function cube_number at 0x10e8349d0>\n",
      "<function cube_number at 0x10e834af0>\n"
     ]
    }
   ],
   "source": [
    "print(cube_number)\n",
    "print(cube_number.__wrapped__)"
   ]
  },
  {
   "cell_type": "code",
   "execution_count": 97,
   "id": "0ad03232",
   "metadata": {},
   "outputs": [
    {
     "data": {
      "text/plain": [
       "125"
      ]
     },
     "execution_count": 97,
     "metadata": {},
     "output_type": "execute_result"
    }
   ],
   "source": [
    "cube_number.__wrapped__(5)"
   ]
  },
  {
   "cell_type": "code",
   "execution_count": 98,
   "id": "64228fb9",
   "metadata": {},
   "outputs": [
    {
     "name": "stdout",
     "output_type": "stream",
     "text": [
      "took time: 0.0000025000 sec\n"
     ]
    },
    {
     "data": {
      "text/plain": [
       "125"
      ]
     },
     "execution_count": 98,
     "metadata": {},
     "output_type": "execute_result"
    }
   ],
   "source": [
    "cube_number(5)"
   ]
  }
 ],
 "metadata": {
  "kernelspec": {
   "display_name": "Python 3 (ipykernel)",
   "language": "python",
   "name": "python3"
  },
  "language_info": {
   "codemirror_mode": {
    "name": "ipython",
    "version": 3
   },
   "file_extension": ".py",
   "mimetype": "text/x-python",
   "name": "python",
   "nbconvert_exporter": "python",
   "pygments_lexer": "ipython3",
   "version": "3.9.1"
  }
 },
 "nbformat": 4,
 "nbformat_minor": 5
}
